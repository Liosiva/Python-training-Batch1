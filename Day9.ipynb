{
 "cells": [
  {
   "cell_type": "code",
   "execution_count": 5,
   "id": "1ee00034",
   "metadata": {},
   "outputs": [
    {
     "name": "stdout",
     "output_type": "stream",
     "text": [
      "name1\n"
     ]
    }
   ],
   "source": [
    "#EG;\n",
    "#Singlr inheritance\n",
    "class parent:\n",
    "    name = \"siva\"\n",
    "class child(parent):\n",
    "    name = \"name1\"\n",
    "    def display(self):\n",
    "        print(self.name)\n",
    "d = child()\n",
    "d.display()"
   ]
  },
  {
   "cell_type": "code",
   "execution_count": 12,
   "id": "0159dc1a",
   "metadata": {},
   "outputs": [
    {
     "name": "stdout",
     "output_type": "stream",
     "text": [
      "speak\n",
      "bark\n",
      "Meow\n",
      "All the animals have their own voices\n"
     ]
    }
   ],
   "source": [
    "# Multi level inheritance\n",
    "#EG;1\n",
    "class voice:\n",
    "    def sound(self):\n",
    "        print(\"All the animals have their own voices\")\n",
    "class dog(voice):\n",
    "    def dog_voice(self):\n",
    "        print(\"bark\")\n",
    "class cat(dog):\n",
    "    def cat_voice(self):\n",
    "        print(\"Meow\")\n",
    "class parrot(cat):\n",
    "    def parrot_voice(self):\n",
    "        print(\"speak\")\n",
    "all = parrot()\n",
    "all.parrot_voice()\n",
    "all.dog_voice()\n",
    "all.cat_voice()\n",
    "all.sound()"
   ]
  },
  {
   "cell_type": "code",
   "execution_count": null,
   "id": "f5febd1e",
   "metadata": {},
   "outputs": [],
   "source": [
    "#Eg:\n",
    "class honda_city:\n",
    "    def honda_city_specs(self,cc,hp,torque,fuel_type,num_of_piston):\n",
    "        print(cc,hp,torque,fuel_type,num_of_piston)\n",
    "    def "
   ]
  },
  {
   "cell_type": "code",
   "execution_count": 14,
   "id": "6dbfbaf0",
   "metadata": {},
   "outputs": [
    {
     "name": "stdout",
     "output_type": "stream",
     "text": [
      "0\n"
     ]
    }
   ],
   "source": [
    "# ! Eg:2\n",
    "# MRO --> Method resolution Order\n",
    "class addition:\n",
    "    def add(self, a, b):\n",
    "        print(a+b)\n",
    "        \n",
    "    def mul(self, a, b):\n",
    "        print(a%b)\n",
    "        \n",
    "class subract:\n",
    "    def sub(self, a, b):\n",
    "        print(a-b)\n",
    "class multiply:\n",
    "    def mul(self, a, b):\n",
    "        print(a*b)\n",
    "class division(addition, subract, multiply):\n",
    "    def div(self, a, b):\n",
    "        print(a/b)\n",
    "        \n",
    "calc = division() \n",
    "# calc.add(3, 4)\n",
    "calc.mul(4,2)"
   ]
  },
  {
   "cell_type": "code",
   "execution_count": 19,
   "id": "a6000a20",
   "metadata": {},
   "outputs": [
    {
     "name": "stdout",
     "output_type": "stream",
     "text": [
      "class3\n"
     ]
    }
   ],
   "source": [
    "# Hybrid inheritance\n",
    "#? The combination of above 4 inheritance is called Hybrid inheritance \n",
    "class c1:\n",
    "    def m1(self):\n",
    "        print(\"class1\")\n",
    "class c2(c1):\n",
    "    def m2(self):\n",
    "        print(\"class2\")\n",
    "class c3(c2):\n",
    "    def m3(self):\n",
    "        print(\"class3\")\n",
    "        \n",
    "class c4(c3):\n",
    "    def m4(self):\n",
    "        print(\"class4\")\n",
    "class c5:\n",
    "    def m5(self):\n",
    "        print(\"class5\")\n",
    "class c6(c5,c4,c3,c2,c1):\n",
    "    def m6(self):\n",
    "        print(\"class6\")\n",
    "obj = c6()\n",
    "obj.m3()"
   ]
  },
  {
   "cell_type": "code",
   "execution_count": null,
   "id": "9d351313",
   "metadata": {},
   "outputs": [],
   "source": [
    "#!---> polymorphism\n",
    "# A function which has the ability to perform more than 1 functionality then it is considered to be as polymorphism\n",
    "\n",
    "#* polymorphism in builtin functions \n",
    "# len()--> which is used to find the length of list,tuple,dict etc..\n",
    "#min()\n",
    "# max()\n",
    "#count()\n",
    "# pop()\n",
    "# and more..\n",
    "\n",
    "\n",
    "#* polymorphism operators\n",
    "#> +\n",
    "#print(8+8)\n",
    "#print([2,3,4]+[4,5])\n",
    "\n",
    "# \"*\"\n",
    "#print(6*7)\n",
    "#l1 = {12,3,4,5,6}\n",
    "#print(*l1)\n",
    "\n",
    "\n",
    "#* polymorphism in classes"
   ]
  },
  {
   "cell_type": "code",
   "execution_count": null,
   "id": "a8e005e6",
   "metadata": {},
   "outputs": [],
   "source": [
    "#Tasks-->\n"
   ]
  },
  {
   "cell_type": "code",
   "execution_count": null,
   "id": "9a3ea581",
   "metadata": {},
   "outputs": [],
   "source": []
  }
 ],
 "metadata": {
  "kernelspec": {
   "display_name": "Python 3 (ipykernel)",
   "language": "python",
   "name": "python3"
  },
  "language_info": {
   "codemirror_mode": {
    "name": "ipython",
    "version": 3
   },
   "file_extension": ".py",
   "mimetype": "text/x-python",
   "name": "python",
   "nbconvert_exporter": "python",
   "pygments_lexer": "ipython3",
   "version": "3.9.7"
  }
 },
 "nbformat": 4,
 "nbformat_minor": 5
}
