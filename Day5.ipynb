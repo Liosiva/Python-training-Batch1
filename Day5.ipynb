{
 "cells": [
  {
   "cell_type": "code",
   "execution_count": 1,
   "id": "265845eb",
   "metadata": {},
   "outputs": [
    {
     "name": "stdout",
     "output_type": "stream",
     "text": [
      "5\n",
      "9\n",
      "1\n"
     ]
    }
   ],
   "source": [
    "# --> Common functions for List \n",
    "l1=[1,3,5,7,9]\n",
    "print(len(l1))\n",
    "print(max(l1))\n",
    "print(min(l1))\n",
    "\n"
   ]
  },
  {
   "cell_type": "code",
   "execution_count": 2,
   "id": "965e0c1d",
   "metadata": {},
   "outputs": [
    {
     "ename": "TypeError",
     "evalue": "'>' not supported between instances of 'str' and 'int'",
     "output_type": "error",
     "traceback": [
      "\u001b[1;31m---------------------------------------------------------------------------\u001b[0m",
      "\u001b[1;31mTypeError\u001b[0m                                 Traceback (most recent call last)",
      "\u001b[1;32mC:\\Users\\LIOSIV~1\\AppData\\Local\\Temp/ipykernel_16976/1355681806.py\u001b[0m in \u001b[0;36m<module>\u001b[1;34m\u001b[0m\n\u001b[0;32m      1\u001b[0m \u001b[1;31m#if\u001b[0m\u001b[1;33m\u001b[0m\u001b[1;33m\u001b[0m\u001b[0m\n\u001b[0;32m      2\u001b[0m \u001b[0ml1\u001b[0m\u001b[1;33m=\u001b[0m\u001b[1;33m[\u001b[0m\u001b[1;36m1\u001b[0m\u001b[1;33m,\u001b[0m\u001b[1;36m4\u001b[0m\u001b[1;33m,\u001b[0m\u001b[1;36m5\u001b[0m\u001b[1;33m,\u001b[0m\u001b[1;34m\"hello\"\u001b[0m\u001b[1;33m,\u001b[0m\u001b[1;34m\"l\"\u001b[0m\u001b[1;33m]\u001b[0m\u001b[1;33m\u001b[0m\u001b[1;33m\u001b[0m\u001b[0m\n\u001b[1;32m----> 3\u001b[1;33m \u001b[0mprint\u001b[0m\u001b[1;33m(\u001b[0m\u001b[0mmax\u001b[0m\u001b[1;33m(\u001b[0m\u001b[0ml1\u001b[0m\u001b[1;33m)\u001b[0m\u001b[1;33m)\u001b[0m\u001b[1;33m\u001b[0m\u001b[1;33m\u001b[0m\u001b[0m\n\u001b[0m",
      "\u001b[1;31mTypeError\u001b[0m: '>' not supported between instances of 'str' and 'int'"
     ]
    }
   ],
   "source": [
    "#if \n",
    "l1=[1,4,5,\"hello\",\"l\"]\n",
    "print(max(l1))#--> Error becoze its a combination of int and string \n",
    "\n"
   ]
  },
  {
   "cell_type": "code",
   "execution_count": 3,
   "id": "db505cce",
   "metadata": {},
   "outputs": [
    {
     "name": "stdout",
     "output_type": "stream",
     "text": [
      "-4\n"
     ]
    }
   ],
   "source": [
    "l1=[1,1.2,34,6.5,43,-4]\n",
    "print(min(l1))"
   ]
  },
  {
   "cell_type": "code",
   "execution_count": 5,
   "id": "93d3da61",
   "metadata": {},
   "outputs": [
    {
     "name": "stdout",
     "output_type": "stream",
     "text": [
      "3\n"
     ]
    }
   ],
   "source": [
    "#--> count\n",
    "l1=[1,2,2,2,3,3,4,4,6,6]\n",
    "print(l1.count(2))"
   ]
  },
  {
   "cell_type": "code",
   "execution_count": 6,
   "id": "9a378948",
   "metadata": {},
   "outputs": [
    {
     "name": "stdout",
     "output_type": "stream",
     "text": [
      "[1, 1.2, 'cars', 34, 6.5, 43, -4]\n"
     ]
    }
   ],
   "source": [
    "# some functions which is specifically used for List\n",
    "'''To add element inside List\n",
    "   > insert() --> to add element at specific index position\n",
    "   '''\n",
    "l1=[1,1.2,34,6.5,43,-4]\n",
    "l1.insert(2, \"cars\")\n",
    "print(l1)"
   ]
  },
  {
   "cell_type": "code",
   "execution_count": 9,
   "id": "e2f72b57",
   "metadata": {},
   "outputs": [
    {
     "name": "stdout",
     "output_type": "stream",
     "text": [
      "[1, 1.2, 34, 6.5, 43, -4, 23]\n"
     ]
    }
   ],
   "source": [
    "l1=[1,1.2,34,6.5,43,-4]\n",
    "l1.append(23) #--> add the element at last \n",
    "print(l1)"
   ]
  },
  {
   "cell_type": "code",
   "execution_count": 11,
   "id": "6e6dee6a",
   "metadata": {},
   "outputs": [
    {
     "name": "stdout",
     "output_type": "stream",
     "text": [
      "[1, 1.2, 34, 6.5, 43]\n"
     ]
    }
   ],
   "source": [
    "# To delete element from the List\n",
    "l1=[1,1.2,34,6.5,43,-4]\n",
    "l1.pop()  #-->Used to delete last element in the List\n",
    "print(l1)"
   ]
  },
  {
   "cell_type": "code",
   "execution_count": 12,
   "id": "125a9828",
   "metadata": {},
   "outputs": [
    {
     "name": "stdout",
     "output_type": "stream",
     "text": [
      "[1, 34, 6.5, 43, -4]\n"
     ]
    }
   ],
   "source": [
    "l1=[1,1.2,34,6.5,43,-4]\n",
    "l1.pop(1)  #-->Used to delete index posistion element (\" 1 is the index value here\")\n",
    "print(l1)"
   ]
  },
  {
   "cell_type": "code",
   "execution_count": 14,
   "id": "66c56daf",
   "metadata": {},
   "outputs": [
    {
     "name": "stdout",
     "output_type": "stream",
     "text": [
      "[1, 1.2, 34, 43, -4]\n"
     ]
    }
   ],
   "source": [
    "#--> Remove is the function to delete specific element\n",
    "#remove(element)\n",
    "l1=[1,1.2,34,6.5,43,-4]\n",
    "l1.remove(6.5)  \n",
    "print(l1)"
   ]
  },
  {
   "cell_type": "code",
   "execution_count": 16,
   "id": "903fa7b7",
   "metadata": {},
   "outputs": [
    {
     "name": "stdout",
     "output_type": "stream",
     "text": [
      "[]\n"
     ]
    }
   ],
   "source": [
    "#--> Clear is the function used to empty an a list\n",
    "l1=[1,1.2,34,6.5,43,-4]\n",
    "l1.clear()  \n",
    "print(l1)"
   ]
  },
  {
   "cell_type": "code",
   "execution_count": 17,
   "id": "3297da45",
   "metadata": {},
   "outputs": [
    {
     "ename": "NameError",
     "evalue": "name 'l1' is not defined",
     "output_type": "error",
     "traceback": [
      "\u001b[1;31m---------------------------------------------------------------------------\u001b[0m",
      "\u001b[1;31mNameError\u001b[0m                                 Traceback (most recent call last)",
      "\u001b[1;32mC:\\Users\\LIOSIV~1\\AppData\\Local\\Temp/ipykernel_16976/344364421.py\u001b[0m in \u001b[0;36m<module>\u001b[1;34m\u001b[0m\n\u001b[0;32m      2\u001b[0m \u001b[0ml1\u001b[0m\u001b[1;33m=\u001b[0m\u001b[1;33m[\u001b[0m\u001b[1;36m1\u001b[0m\u001b[1;33m,\u001b[0m\u001b[1;36m1.2\u001b[0m\u001b[1;33m,\u001b[0m\u001b[1;36m34\u001b[0m\u001b[1;33m,\u001b[0m\u001b[1;36m6.5\u001b[0m\u001b[1;33m,\u001b[0m\u001b[1;36m43\u001b[0m\u001b[1;33m,\u001b[0m\u001b[1;33m-\u001b[0m\u001b[1;36m4\u001b[0m\u001b[1;33m]\u001b[0m\u001b[1;33m\u001b[0m\u001b[1;33m\u001b[0m\u001b[0m\n\u001b[0;32m      3\u001b[0m \u001b[1;32mdel\u001b[0m\u001b[1;33m(\u001b[0m\u001b[0ml1\u001b[0m\u001b[1;33m)\u001b[0m\u001b[1;33m\u001b[0m\u001b[1;33m\u001b[0m\u001b[0m\n\u001b[1;32m----> 4\u001b[1;33m \u001b[0mprint\u001b[0m\u001b[1;33m(\u001b[0m\u001b[0ml1\u001b[0m\u001b[1;33m)\u001b[0m\u001b[1;33m\u001b[0m\u001b[1;33m\u001b[0m\u001b[0m\n\u001b[0m",
      "\u001b[1;31mNameError\u001b[0m: name 'l1' is not defined"
     ]
    }
   ],
   "source": [
    "#$ del To delete the List Completly\n",
    "l1=[1,1.2,34,6.5,43,-4]\n",
    "del(l1)\n",
    "print(l1)"
   ]
  },
  {
   "cell_type": "code",
   "execution_count": 18,
   "id": "3efe4746",
   "metadata": {},
   "outputs": [
    {
     "name": "stdout",
     "output_type": "stream",
     "text": [
      "[1, 1.2, 34, 6.5, 43, -4, 'd', 'b', 1]\n"
     ]
    }
   ],
   "source": [
    "# joining of 2 List \n",
    "l1=[1,1.2,34,6.5,43,-4]\n",
    "l2=['d','b',1]\n",
    "print(l1+l2)"
   ]
  },
  {
   "cell_type": "code",
   "execution_count": 22,
   "id": "6751ce80",
   "metadata": {},
   "outputs": [
    {
     "name": "stdout",
     "output_type": "stream",
     "text": [
      "[1, 1.2, 34, 6.5, 43, -4, 'd', 'b', 1]\n"
     ]
    }
   ],
   "source": [
    "# To Combine 2 Lists\n",
    "l1=[1,1.2,34,6.5,43,-4]\n",
    "l2=['d','b',1]\n",
    "l1.extend(l2)\n",
    "print(l1)"
   ]
  },
  {
   "cell_type": "code",
   "execution_count": 26,
   "id": "318ec86f",
   "metadata": {},
   "outputs": [
    {
     "name": "stdout",
     "output_type": "stream",
     "text": [
      "[1, 1.2, 34, 6.5, 43, -4]\n",
      "1691474591872\n",
      "1691474588288\n"
     ]
    }
   ],
   "source": [
    "#--> copy\n",
    "l1=[1,1.2,34,6.5,43,-4]\n",
    "l2= l1.copy()\n",
    "print(l2)\n",
    "print(id(l1))\n",
    "print(id(l2))"
   ]
  },
  {
   "cell_type": "code",
   "execution_count": 27,
   "id": "41f5e100",
   "metadata": {},
   "outputs": [
    {
     "name": "stdout",
     "output_type": "stream",
     "text": [
      "[1, 1.2, 34, 6.5, 43, -4, 890]\n",
      "[1, 1.2, 34, 6.5, 43, -4]\n"
     ]
    }
   ],
   "source": [
    "# diff between shallow copy and deep copy\\\\\n",
    " #--> Shallow copy  \n",
    "    '''Note: this copy.copy will use for any data type '''\n",
    "import copy\n",
    "l1=[1,1.2,34,6.5,43,-4]\n",
    "l2= copy.copy(l1)\n",
    "l1.append(890)\n",
    "print(l1)\n",
    "print(l2)\n",
    "    "
   ]
  },
  {
   "cell_type": "code",
   "execution_count": 30,
   "id": "f5a998d3",
   "metadata": {},
   "outputs": [
    {
     "name": "stdout",
     "output_type": "stream",
     "text": [
      "43\n"
     ]
    }
   ],
   "source": [
    "l1=[1,[1.2,34,6.5],[43,-4]]\n",
    "print(l1[-1][0])"
   ]
  },
  {
   "cell_type": "code",
   "execution_count": 31,
   "id": "aac8eac4",
   "metadata": {},
   "outputs": [
    {
     "name": "stdout",
     "output_type": "stream",
     "text": [
      "[1, [1.2, 34, 6.5], [43, -4]]\n",
      "[1, [1.2, 34, 6.5], [43, -4]]\n"
     ]
    }
   ],
   "source": [
    "# --> Deep copy\n",
    "''' used to copy the list with nested list'''\n",
    "import copy\n",
    "l1=[1,[1.2,34,6.5],[43,-4]]\n",
    "l2= copy.deepcopy(l1)\n",
    "print(l1)\n",
    "print(l2)"
   ]
  },
  {
   "cell_type": "code",
   "execution_count": 33,
   "id": "1e32165e",
   "metadata": {},
   "outputs": [
    {
     "name": "stdout",
     "output_type": "stream",
     "text": [
      "[-4, 1, 1.2, 6.5, 34, 43]\n",
      "[43, 34, 6.5, 1.2, 1, -4]\n"
     ]
    }
   ],
   "source": [
    "# sort is used to arrange the elements in the list in accending or descending order \n",
    "l1=[1,1.2,34,6.5,43,-4]\n",
    "l1.sort()\n",
    "print(l1)\n",
    "l1=[1,1.2,34,6.5,43,-4]\n",
    "l1.sort(reverse=True)  '''Used to arrange the elements in descendindg order'''\n",
    "print(l1)"
   ]
  },
  {
   "cell_type": "code",
   "execution_count": 34,
   "id": "91626666",
   "metadata": {},
   "outputs": [
    {
     "name": "stdout",
     "output_type": "stream",
     "text": [
      "['d', 'e', 's', 'w']\n"
     ]
    },
    {
     "data": {
      "text/plain": [
       "\"Note : it can't arrange the elements in the list containing mixed tyoe of variables\""
      ]
     },
     "execution_count": 34,
     "metadata": {},
     "output_type": "execute_result"
    }
   ],
   "source": [
    "''' sort is also used to arrange the elements having str type also '''\n",
    "l1 = ['w','e','s','d']\n",
    "l1.sort()\n",
    "print(l1)\n",
    "'''Note : it can't arrange the elements in the list containing mixed tyoe of variables'''"
   ]
  },
  {
   "cell_type": "code",
   "execution_count": 36,
   "id": "30406e8f",
   "metadata": {},
   "outputs": [
    {
     "name": "stdout",
     "output_type": "stream",
     "text": [
      "[8, 9, 4]\n"
     ]
    },
    {
     "ename": "TypeError",
     "evalue": "'int' object is not iterable",
     "output_type": "error",
     "traceback": [
      "\u001b[1;31m---------------------------------------------------------------------------\u001b[0m",
      "\u001b[1;31mTypeError\u001b[0m                                 Traceback (most recent call last)",
      "\u001b[1;32mC:\\Users\\LIOSIV~1\\AppData\\Local\\Temp/ipykernel_16976/2267025951.py\u001b[0m in \u001b[0;36m<module>\u001b[1;34m\u001b[0m\n\u001b[0;32m      4\u001b[0m \u001b[0mprint\u001b[0m\u001b[1;33m(\u001b[0m\u001b[0mlist\u001b[0m\u001b[1;33m(\u001b[0m\u001b[0ml3\u001b[0m\u001b[1;33m)\u001b[0m\u001b[1;33m)\u001b[0m\u001b[1;33m\u001b[0m\u001b[1;33m\u001b[0m\u001b[0m\n\u001b[0;32m      5\u001b[0m \u001b[0ml4\u001b[0m\u001b[1;33m=\u001b[0m\u001b[1;36m8\u001b[0m\u001b[1;33m\u001b[0m\u001b[1;33m\u001b[0m\u001b[0m\n\u001b[1;32m----> 6\u001b[1;33m \u001b[0mprint\u001b[0m\u001b[1;33m(\u001b[0m\u001b[0mlist\u001b[0m\u001b[1;33m(\u001b[0m\u001b[1;33m(\u001b[0m\u001b[0ml4\u001b[0m\u001b[1;33m)\u001b[0m\u001b[1;33m)\u001b[0m\u001b[1;33m)\u001b[0m\u001b[1;33m\u001b[0m\u001b[1;33m\u001b[0m\u001b[0m\n\u001b[0m",
      "\u001b[1;31mTypeError\u001b[0m: 'int' object is not iterable"
     ]
    }
   ],
   "source": [
    "# List constructor \n",
    "#--> list() to convert other collection datatype to list\n",
    "l3 = ((8,9,4))\n",
    "print(list(l3))\n",
    "l4=8\n",
    "print(list((l4))) ''' We can't convert the single int into list'''"
   ]
  },
  {
   "cell_type": "code",
   "execution_count": 38,
   "id": "30d1e109",
   "metadata": {},
   "outputs": [
    {
     "name": "stdout",
     "output_type": "stream",
     "text": [
      "o\n"
     ]
    }
   ],
   "source": [
    "# nested List\n",
    "l1 = [8,9,[0,8,7],['p','o','y'],[8,'t']]\n",
    "print(l1[-2][1])"
   ]
  },
  {
   "cell_type": "code",
   "execution_count": 44,
   "id": "89f12d71",
   "metadata": {},
   "outputs": [
    {
     "name": "stdout",
     "output_type": "stream",
     "text": [
      "[[0, 8, 7], ['p', 'o', 'y']]\n"
     ]
    }
   ],
   "source": [
    "# combination of negitive and psitive indexing\n",
    "l1 = [8,9,[0,8,7],['p','o','y'],[8,'t']]\n",
    "print(l1[2:-1])"
   ]
  },
  {
   "cell_type": "code",
   "execution_count": 55,
   "id": "607591e2",
   "metadata": {},
   "outputs": [
    {
     "name": "stdout",
     "output_type": "stream",
     "text": [
      "[8, 9, [0, 8, 7], ['p', 'o', 'y'], [8]]\n"
     ]
    }
   ],
   "source": [
    "# ---> Remove in nesteed lists\n",
    "l1 = [8,9,[0,8,7],['p','o','y'],[8,'t']]\n",
    "l1[-1].remove('t')\n",
    "print(l1)"
   ]
  },
  {
   "cell_type": "code",
   "execution_count": 58,
   "id": "8d2f726f",
   "metadata": {},
   "outputs": [
    {
     "name": "stdout",
     "output_type": "stream",
     "text": [
      "[8, 9, [0, 8, 7], ['p', 'o', 'y', 8, 't']]\n"
     ]
    }
   ],
   "source": [
    "# Adding nested list inner lists\n",
    "l1 = [8,9,[0,8,7],['p','o','y'],[8,'t']]\n",
    "l1[3].extend(l1[-1])\n",
    "l1.pop(-1)\n",
    "print(l1)"
   ]
  },
  {
   "cell_type": "code",
   "execution_count": 60,
   "id": "dc50cbab",
   "metadata": {},
   "outputs": [
    {
     "name": "stdout",
     "output_type": "stream",
     "text": [
      "(8, 8, 9, 6, 5.78, [9, 0], (6, 8), 'hey', (9+6j))\n",
      "<class 'tuple'>\n"
     ]
    }
   ],
   "source": [
    "# --> Tuple\n",
    "'''1) Tuple have to be surrounded by ()\n",
    "    2) The elements inside tuple are not changable\n",
    "    3) The elements inside tuple are indexed\n",
    "    4) The element will execute in order \n",
    "    5) it is heterogenous \n",
    "    6) it allow duplicate elements'''\n",
    "\n",
    "# Eg ;\n",
    "t1 = (8,8,9,6,5.78,[9,0],(6,8),\"hey\",9+6j)\n",
    "print(t1)\n",
    "print(type(t1))"
   ]
  },
  {
   "cell_type": "code",
   "execution_count": 61,
   "id": "4e55316b",
   "metadata": {},
   "outputs": [
    {
     "name": "stdout",
     "output_type": "stream",
     "text": [
      "<class 'tuple'>\n"
     ]
    }
   ],
   "source": [
    "# indexing,slicing are all same as list \n",
    "\n",
    "# len(), min(),max(),index(),count()--> all same as list\n",
    "'''---> ways to create tuple :\n",
    "       l1 = 0,8\n",
    "       l1 = (9,8)\n",
    "       l1 = 8,'''\n",
    "l1 = 8,\n",
    "print(type(l1))"
   ]
  },
  {
   "cell_type": "code",
   "execution_count": 64,
   "id": "c7cdb9ee",
   "metadata": {},
   "outputs": [
    {
     "name": "stdout",
     "output_type": "stream",
     "text": [
      "26\n"
     ]
    }
   ],
   "source": [
    "# to add element inside the tuple ---> cannot add\n",
    "#cannot  delete any element from tuple \n",
    "\n",
    "#To addd all element inside list and tuple \n",
    "#sum()\n",
    "l1 = (8,9,6,3)\n",
    "print(sum(l1))"
   ]
  },
  {
   "cell_type": "code",
   "execution_count": 66,
   "id": "20a5bb97",
   "metadata": {},
   "outputs": [
    {
     "name": "stdout",
     "output_type": "stream",
     "text": [
      "(0, 8, 9, 12, 12)\n",
      "(12, 12, 9, 8, 0)\n"
     ]
    }
   ],
   "source": [
    "# sort tuple \n",
    "t1 = (8,9,12,0,12)\n",
    "print(tuple(sorted(t1)))\n",
    "print(tuple(sorted(t1, reverse=True)))"
   ]
  },
  {
   "cell_type": "code",
   "execution_count": 67,
   "id": "09fa4033",
   "metadata": {},
   "outputs": [
    {
     "name": "stdout",
     "output_type": "stream",
     "text": [
      "9\n",
      "8\n",
      "0\n",
      "6\n",
      "5\n"
     ]
    }
   ],
   "source": [
    "# iterate list and tuple \n",
    "l1= [9,8,0,6,5]\n",
    "for i in l1:\n",
    "    print(i)"
   ]
  },
  {
   "cell_type": "code",
   "execution_count": null,
   "id": "8e987f49",
   "metadata": {},
   "outputs": [],
   "source": [
    "#  iterate based on index value\n",
    "l1 = [9,8,0,6,5,8,56]\n",
    "for i in range ()"
   ]
  },
  {
   "cell_type": "code",
   "execution_count": 8,
   "id": "fff2007c",
   "metadata": {},
   "outputs": [
    {
     "name": "stdout",
     "output_type": "stream",
     "text": [
      "hello\n"
     ]
    }
   ],
   "source": [
    "s1 = \"hello world\"\n",
    "print(s1[:5])"
   ]
  },
  {
   "cell_type": "code",
   "execution_count": null,
   "id": "5765b893",
   "metadata": {},
   "outputs": [],
   "source": [
    "# --> common functions for string\n",
    "'''len(),max(),min()'''\n",
    "#ord()--> used to find the ASCII value of a charecter\n",
    "# s1 = 'u'\n",
    "#print(ord(s1))"
   ]
  },
  {
   "cell_type": "code",
   "execution_count": 9,
   "id": "da87c9b2",
   "metadata": {},
   "outputs": [
    {
     "name": "stdout",
     "output_type": "stream",
     "text": [
      "HELLO WORLD \n"
     ]
    }
   ],
   "source": [
    "#function of string \n",
    "s1 = \"hello world \"\n",
    "# To convert all characters to upper case \n",
    "print(s1.upper())"
   ]
  },
  {
   "cell_type": "code",
   "execution_count": 10,
   "id": "0d262c0a",
   "metadata": {},
   "outputs": [
    {
     "name": "stdout",
     "output_type": "stream",
     "text": [
      "hello world \n"
     ]
    }
   ],
   "source": [
    "# to convert of string to lower case\n",
    "print(s1.lower())"
   ]
  },
  {
   "cell_type": "code",
   "execution_count": 12,
   "id": "e5990d30",
   "metadata": {},
   "outputs": [
    {
     "name": "stdout",
     "output_type": "stream",
     "text": [
      "hello world\n",
      "hello world \n",
      "hello world\n"
     ]
    }
   ],
   "source": [
    "# strip() --> to elemenate the space in beginning & the end of string\n",
    "print(s1.strip())\n",
    "print(s1.lstrip())\n",
    "print(s1.rstrip())"
   ]
  },
  {
   "cell_type": "code",
   "execution_count": 17,
   "id": "0a36241d",
   "metadata": {},
   "outputs": [
    {
     "name": "stdout",
     "output_type": "stream",
     "text": [
      "['hello', 'world', '']\n",
      "['hello wo', 'ld ']\n",
      "1\n"
     ]
    }
   ],
   "source": [
    "#--> split() -> ''' to split the words in the string based on a character '''\n",
    "print(s1.split(\" \"))\n",
    "print(s1.split('r'))\n",
    "print(s1.count(\"e\"))"
   ]
  },
  {
   "cell_type": "code",
   "execution_count": 18,
   "id": "4986053d",
   "metadata": {},
   "outputs": [
    {
     "name": "stdout",
     "output_type": "stream",
     "text": [
      "1\n"
     ]
    }
   ],
   "source": [
    "s1 = \"hello world\"\n",
    "print(s1.count(\"e\"))"
   ]
  },
  {
   "cell_type": "code",
   "execution_count": 19,
   "id": "e2f81e56",
   "metadata": {},
   "outputs": [
    {
     "name": "stdout",
     "output_type": "stream",
     "text": [
      "hello wo&&ld\n"
     ]
    }
   ],
   "source": [
    "#replace--> ''' to replace a specific character in the string'''\n",
    "s1 = \"hello world\"\n",
    "print(s1.replace('r','&&'))"
   ]
  },
  {
   "cell_type": "code",
   "execution_count": 20,
   "id": "a32b0386",
   "metadata": {},
   "outputs": [
    {
     "name": "stdout",
     "output_type": "stream",
     "text": [
      "HELLO WORLD\n"
     ]
    }
   ],
   "source": [
    "#swapcase --> ''' To convert small to capital at a time '''\n",
    "\n",
    "s1 = \"hello world\"\n",
    "print(s1.swapcase())"
   ]
  },
  {
   "cell_type": "code",
   "execution_count": 21,
   "id": "b52bfa30",
   "metadata": {},
   "outputs": [
    {
     "name": "stdout",
     "output_type": "stream",
     "text": [
      "Hello World\n"
     ]
    }
   ],
   "source": [
    "# Title function \n",
    "s1 = \"hello world\"\n",
    "print(s1.title())"
   ]
  },
  {
   "cell_type": "code",
   "execution_count": 22,
   "id": "639f69e4",
   "metadata": {},
   "outputs": [
    {
     "name": "stdout",
     "output_type": "stream",
     "text": [
      "Hello world\n"
     ]
    }
   ],
   "source": [
    "# capitalize --> ''' first letter wil be capital'''\n",
    "s1 = \"hello world\"\n",
    "print(s1.capitalize())"
   ]
  },
  {
   "cell_type": "code",
   "execution_count": 25,
   "id": "b5e377bb",
   "metadata": {},
   "outputs": [
    {
     "name": "stdout",
     "output_type": "stream",
     "text": [
      "hello world\n"
     ]
    }
   ],
   "source": [
    "# join the strings\n",
    "s1 = \"hello\"\n",
    "s2 = \" world\"\n",
    "print(s1+s2)"
   ]
  },
  {
   "cell_type": "code",
   "execution_count": 28,
   "id": "849315c1",
   "metadata": {},
   "outputs": [
    {
     "name": "stdout",
     "output_type": "stream",
     "text": [
      "['how are you ', 'i am fine ', 'hey there']\n"
     ]
    }
   ],
   "source": [
    "#splitlines --> used to split the string based on lines\n",
    "s1= '''how are you \n",
    "i am fine \n",
    "hey there'''\n",
    "print(s1.splitlines())\n"
   ]
  },
  {
   "cell_type": "code",
   "execution_count": 33,
   "id": "4d460da7",
   "metadata": {},
   "outputs": [
    {
     "name": "stdout",
     "output_type": "stream",
     "text": [
      "-1\n",
      "0\n"
     ]
    }
   ],
   "source": [
    "#Find function --> used to find the index number based on a character \n",
    "s1 = \"hello world\"\n",
    "print(s1.find('z'))\n",
    "print(s1.index('h'))"
   ]
  },
  {
   "cell_type": "code",
   "execution_count": 37,
   "id": "dbdd11c5",
   "metadata": {},
   "outputs": [
    {
     "name": "stdout",
     "output_type": "stream",
     "text": [
      "hello world\n"
     ]
    }
   ],
   "source": [
    "# join()-->\n",
    "l1= ['hello','world']\n",
    "print(\" \".join(l1))"
   ]
  },
  {
   "cell_type": "code",
   "execution_count": 42,
   "id": "752e3ab6",
   "metadata": {},
   "outputs": [
    {
     "name": "stdout",
     "output_type": "stream",
     "text": [
      "True\n"
     ]
    }
   ],
   "source": [
    "# endswith()--> String either ends with that character or not \n",
    "s1 = \"Welcome to all\"\n",
    "print(s1.endswith(\"l\"))"
   ]
  },
  {
   "cell_type": "code",
   "execution_count": 45,
   "id": "539c108e",
   "metadata": {},
   "outputs": [
    {
     "name": "stdout",
     "output_type": "stream",
     "text": [
      "True\n"
     ]
    }
   ],
   "source": [
    "#startswith()--> String either start with that character or not \n",
    "s1 = \"Welcome to all\"\n",
    "print(s1.startswith(\"W\"))"
   ]
  },
  {
   "cell_type": "code",
   "execution_count": 49,
   "id": "316d399b",
   "metadata": {},
   "outputs": [
    {
     "name": "stdout",
     "output_type": "stream",
     "text": [
      "True\n"
     ]
    }
   ],
   "source": [
    "# isdigit\n",
    "s1= \"67\"\n",
    "print(s1.isdigit())"
   ]
  },
  {
   "cell_type": "code",
   "execution_count": 75,
   "id": "3303c0d4",
   "metadata": {},
   "outputs": [
    {
     "name": "stdout",
     "output_type": "stream",
     "text": [
      "lla ot emocleW\n"
     ]
    }
   ],
   "source": [
    "# print the string with reverse manner\n",
    "s1 = \"Welcome to all\"\n",
    "print(s1[::-1])\n"
   ]
  },
  {
   "cell_type": "code",
   "execution_count": 92,
   "id": "4c65167d",
   "metadata": {},
   "outputs": [
    {
     "name": "stdout",
     "output_type": "stream",
     "text": [
      "11\n"
     ]
    }
   ],
   "source": [
    "#Eg ; 1 --> count of lowercase in string\n",
    "s1= \"Hey there you aRE\"\n",
    "count=0\n",
    "for i in s1:\n",
    "    if i.islower():\n",
    "        count+=1\n",
    "print(count)"
   ]
  },
  {
   "cell_type": "code",
   "execution_count": 107,
   "id": "b252000b",
   "metadata": {},
   "outputs": [
    {
     "name": "stdout",
     "output_type": "stream",
     "text": [
      "resta$te$\n"
     ]
    }
   ],
   "source": [
    "#Eg:2\n",
    "s1 = 'restarter'\n",
    "k=s1[0]\n",
    "l=s1[1:]\n",
    "text = l.replace('r','$')\n",
    "print(k+text)\n",
    "    "
   ]
  },
  {
   "cell_type": "code",
   "execution_count": 112,
   "id": "d0160b98",
   "metadata": {},
   "outputs": [
    {
     "name": "stdout",
     "output_type": "stream",
     "text": [
      "4240\n"
     ]
    }
   ],
   "source": []
  },
  {
   "cell_type": "code",
   "execution_count": 142,
   "id": "aecee656",
   "metadata": {},
   "outputs": [
    {
     "name": "stdout",
     "output_type": "stream",
     "text": [
      "574\n",
      "91\n",
      "4\n",
      "90\n"
     ]
    }
   ],
   "source": [
    "s1 = '''Lorem Ipsum is simply dummy text of the printing and typesetting industry. Lorem Ipsum has been the industry's standard dummy text ever since the 1500s, when an unknown printer took a galley of type and scrambled it to make a type specimen book. It has survived not only five centuries, but also the leap into electronic typesetting, remaining essentially unchanged. It was popularised in the 1960s with the release of Letraset sheets containing Lorem Ipsum passages, and more recently with desktop publishing software like Aldus PageMaker including versions of Lorem Ipsum.'''\n",
    "\n",
    "count=len(s1)\n",
    "print(count)\n",
    "words = s1.split(\" \")\n",
    "print(len(words))\n",
    "for val in sent:\n",
    "    if val =='':\n",
    "        index=sent.index('')\n",
    "        sent.pop(index)\n",
    "print(len(sent))\n",
    "c=0\n",
    "for i in s1:\n",
    "    if i == \" \":\n",
    "        c+=1\n",
    "print(c)\n"
   ]
  },
  {
   "cell_type": "code",
   "execution_count": null,
   "id": "26fc3955",
   "metadata": {},
   "outputs": [],
   "source": []
  },
  {
   "cell_type": "code",
   "execution_count": null,
   "id": "297eaf51",
   "metadata": {},
   "outputs": [],
   "source": []
  }
 ],
 "metadata": {
  "kernelspec": {
   "display_name": "Python 3 (ipykernel)",
   "language": "python",
   "name": "python3"
  },
  "language_info": {
   "codemirror_mode": {
    "name": "ipython",
    "version": 3
   },
   "file_extension": ".py",
   "mimetype": "text/x-python",
   "name": "python",
   "nbconvert_exporter": "python",
   "pygments_lexer": "ipython3",
   "version": "3.9.7"
  }
 },
 "nbformat": 4,
 "nbformat_minor": 5
}
