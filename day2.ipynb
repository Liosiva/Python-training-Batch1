{
 "cells": [
  {
   "cell_type": "code",
   "execution_count": 6,
   "id": "56e3a553",
   "metadata": {},
   "outputs": [
    {
     "name": "stdout",
     "output_type": "stream",
     "text": [
      "2\n"
     ]
    }
   ],
   "source": [
    "a,b,c=2,3,5\n",
    "print(a)"
   ]
  },
  {
   "cell_type": "code",
   "execution_count": 10,
   "id": "9fff397f",
   "metadata": {},
   "outputs": [
    {
     "name": "stdout",
     "output_type": "stream",
     "text": [
      "7\n",
      "8\n",
      "(7, 8)\n"
     ]
    }
   ],
   "source": [
    "a,b=c=7,8\n",
    "print(a)\n",
    "print(b)\n",
    "print(c)"
   ]
  },
  {
   "cell_type": "code",
   "execution_count": 11,
   "id": "4bbbac45",
   "metadata": {},
   "outputs": [
    {
     "name": "stdout",
     "output_type": "stream",
     "text": [
      "(4, 2) 4 2\n"
     ]
    }
   ],
   "source": [
    "a=b,c=4,2\n",
    "print(a,b,c)"
   ]
  },
  {
   "cell_type": "code",
   "execution_count": null,
   "id": "4a45c7c2",
   "metadata": {},
   "outputs": [],
   "source": [
    "'''-->swapping of variables\n",
    "    a =7\n",
    "    b = 5"
   ]
  },
  {
   "cell_type": "code",
   "execution_count": 13,
   "id": "eefdbcb6",
   "metadata": {},
   "outputs": [
    {
     "name": "stdout",
     "output_type": "stream",
     "text": [
      "5\n"
     ]
    }
   ],
   "source": [
    "a=7\n",
    "b=5\n",
    "temp=a\n",
    "a=b\n",
    "temp=b\n",
    "print(a)"
   ]
  },
  {
   "cell_type": "code",
   "execution_count": 18,
   "id": "946501f9",
   "metadata": {},
   "outputs": [
    {
     "name": "stdout",
     "output_type": "stream",
     "text": [
      "7\n"
     ]
    }
   ],
   "source": [
    "a=7\n",
    "b=5\n",
    "a=a+b\n",
    "b=a-b\n",
    "a=a-b\n",
    "print(b)\n",
    "\n",
    "    \n",
    "    "
   ]
  },
  {
   "cell_type": "code",
   "execution_count": 19,
   "id": "06745479",
   "metadata": {},
   "outputs": [
    {
     "name": "stdout",
     "output_type": "stream",
     "text": [
      "7 5\n"
     ]
    }
   ],
   "source": [
    "a,b=b,a\n",
    "print(a,b)"
   ]
  },
  {
   "cell_type": "code",
   "execution_count": 22,
   "id": "7161284d",
   "metadata": {},
   "outputs": [
    {
     "name": "stdout",
     "output_type": "stream",
     "text": [
      "5 7\n"
     ]
    }
   ],
   "source": [
    "a=a*b\n",
    "b=a/b\n",
    "a=a/b\n",
    "print(int(a),int(b))"
   ]
  },
  {
   "cell_type": "code",
   "execution_count": null,
   "id": "2c8ec27d",
   "metadata": {},
   "outputs": [],
   "source": [
    "'''id function which is used to find out the memory of that variables \n",
    "   a=7\n",
    "   print(id(a))'''"
   ]
  },
  {
   "cell_type": "code",
   "execution_count": 24,
   "id": "243d3401",
   "metadata": {},
   "outputs": [
    {
     "name": "stdout",
     "output_type": "stream",
     "text": [
      "['False', 'None', 'True', '__peg_parser__', 'and', 'as', 'assert', 'async', 'await', 'break', 'class', 'continue', 'def', 'del', 'elif', 'else', 'except', 'finally', 'for', 'from', 'global', 'if', 'import', 'in', 'is', 'lambda', 'nonlocal', 'not', 'or', 'pass', 'raise', 'return', 'try', 'while', 'with', 'yield']\n"
     ]
    }
   ],
   "source": [
    "'''-->keywords\n",
    "    -keywords are reserved words which provides special meaning to compiler or interpretor\n",
    "      '''\n",
    "import keyword\n",
    "print(keyword.kwlist)"
   ]
  },
  {
   "cell_type": "code",
   "execution_count": 25,
   "id": "f562456f",
   "metadata": {},
   "outputs": [
    {
     "name": "stdout",
     "output_type": "stream",
     "text": [
      "36\n"
     ]
    }
   ],
   "source": [
    "print(len(keyword.kwlist))"
   ]
  },
  {
   "cell_type": "code",
   "execution_count": 28,
   "id": "d07b1cf7",
   "metadata": {
    "scrolled": true
   },
   "outputs": [
    {
     "name": "stdout",
     "output_type": "stream",
     "text": [
      "False\n"
     ]
    }
   ],
   "source": [
    "# To check if the string is keyword or not\n",
    "print(keyword.iskeyword(\"siva\"))"
   ]
  },
  {
   "cell_type": "code",
   "execution_count": null,
   "id": "fec9d234",
   "metadata": {},
   "outputs": [],
   "source": [
    "'''--> literals\n",
    "       >Literal is the constant value assigned to a variable\n",
    "        A variable is considers to be constant when it is defines in caps.'''\n",
    "# A = 2..etc"
   ]
  },
  {
   "cell_type": "code",
   "execution_count": null,
   "id": "51c6b492",
   "metadata": {},
   "outputs": [],
   "source": [
    "''' --->hash code\n",
    "    > it creates a hash value for constant datatypes and provides error for non constant datatypes\n",
    "      \n",
    "     n1 = 89+7j\n",
    "     print(hash(n1))'''"
   ]
  },
  {
   "cell_type": "code",
   "execution_count": 29,
   "id": "48af9d57",
   "metadata": {},
   "outputs": [
    {
     "name": "stdout",
     "output_type": "stream",
     "text": [
      "2571167689232\n",
      "2571167689232\n",
      "2571167689232\n"
     ]
    }
   ],
   "source": [
    "a=8\n",
    "b=8 \n",
    "c=8\n",
    "d=8\n",
    "print(id(a))\n",
    "print(id(b))\n",
    "print(id(c))"
   ]
  },
  {
   "cell_type": "code",
   "execution_count": null,
   "id": "be659556",
   "metadata": {},
   "outputs": [],
   "source": [
    "#operaters \n",
    " #> Operators are symbols which is used to perform various operations between 2 or more operands\n",
    " #>Types_-\n",
    "          '''Arthmatic\n",
    "          Logical\n",
    "          Relational or Comparison \n",
    "          Bitwise \n",
    "          identity\n",
    "          Membership\n",
    "    \n",
    " Arthmatic--> +,-,/,%,//,**\n",
    " Eg: \n",
    "    a=8 \n",
    "    b=9\n",
    "    print(a+b)'''"
   ]
  },
  {
   "cell_type": "code",
   "execution_count": null,
   "id": "ca149779",
   "metadata": {},
   "outputs": [],
   "source": [
    "'''input()--> Used to get the runtime input\n",
    " Eg: \n",
    "    n1= input(\"Enter the value: \")\n",
    "        print(n1)'''"
   ]
  },
  {
   "cell_type": "code",
   "execution_count": 34,
   "id": "deb87538",
   "metadata": {},
   "outputs": [
    {
     "name": "stdout",
     "output_type": "stream",
     "text": [
      "2.3\n",
      "<class 'float'>\n"
     ]
    }
   ],
   "source": [
    "a = eval(input())\n",
    "#eval is the function is used to take all type of data types in real time process\n",
    "print(type(a))"
   ]
  },
  {
   "cell_type": "code",
   "execution_count": null,
   "id": "7757dbf1",
   "metadata": {},
   "outputs": [],
   "source": [
    "# the / is used to get the quotient value \n",
    "# the % is used to get the remainder value"
   ]
  },
  {
   "cell_type": "code",
   "execution_count": null,
   "id": "9dca11f4",
   "metadata": {},
   "outputs": [],
   "source": [
    "#the // will provide the roundoff to base value called as the floor division \n",
    "# Eg: b=8\n",
    "     # a=5 \n",
    "    #print(b//a)"
   ]
  },
  {
   "cell_type": "code",
   "execution_count": null,
   "id": "f834fd9b",
   "metadata": {},
   "outputs": [],
   "source": [
    "# the ** is the operator to use for power operators\n",
    "#print(2**8)"
   ]
  },
  {
   "cell_type": "code",
   "execution_count": 1,
   "id": "7f306a94",
   "metadata": {},
   "outputs": [
    {
     "name": "stdout",
     "output_type": "stream",
     "text": [
      "10\n"
     ]
    }
   ],
   "source": [
    "'''Assignmen --> \n",
    "                > Types are +=,-=,/=,//=,**=,&=,|=,%='''\n",
    "a=8\n",
    "a+=2\n",
    "print(a)"
   ]
  },
  {
   "cell_type": "code",
   "execution_count": 2,
   "id": "46ea99e9",
   "metadata": {},
   "outputs": [
    {
     "name": "stdout",
     "output_type": "stream",
     "text": [
      "True\n"
     ]
    }
   ],
   "source": [
    "'''comparison --> ==,>,<,!=,<=,>='''\n",
    "a=8\n",
    "b=7\n",
    "print(a>b)"
   ]
  },
  {
   "cell_type": "code",
   "execution_count": 7,
   "id": "3633b614",
   "metadata": {},
   "outputs": [
    {
     "name": "stdout",
     "output_type": "stream",
     "text": [
      "4\n"
     ]
    }
   ],
   "source": [
    "'''Bitwise operator --> &,|,^,~,<<,>>'''\n",
    "a=7\n",
    "b=6\n",
    "print(a&b)\n",
    "\n",
    "# 2^3 2^2 2^1 2^0\n",
    "#  8   4   2   1\n",
    "\n",
    "#  0   1   1   1 = 7\n",
    "#  0   1   1   0 = 6\n",
    "#-----------------\n",
    "#  0   1   1   0 = 6"
   ]
  },
  {
   "cell_type": "code",
   "execution_count": null,
   "id": "b69a7cc4",
   "metadata": {},
   "outputs": [],
   "source": [
    "#Logical operator --> and,or,not\n",
    "# used to compare the expressions "
   ]
  },
  {
   "cell_type": "code",
   "execution_count": 11,
   "id": "ac4ca47b",
   "metadata": {},
   "outputs": [
    {
     "name": "stdout",
     "output_type": "stream",
     "text": [
      "True\n",
      "True\n",
      "False\n",
      "True\n"
     ]
    }
   ],
   "source": [
    "#Identity operator---> is, is not \n",
    "# It is used to compare the memory location that the values are stored\n",
    "a=8\n",
    "b=8\n",
    "print(a is b)\n",
    "print(a == b)\n",
    "a=[1,2,3]\n",
    "b=[1,2,3]\n",
    "print(a is b)\n",
    "print(a==b)"
   ]
  },
  {
   "cell_type": "code",
   "execution_count": 13,
   "id": "34f05b41",
   "metadata": {},
   "outputs": [
    {
     "name": "stdout",
     "output_type": "stream",
     "text": [
      "True\n"
     ]
    }
   ],
   "source": [
    "#membership operator --> in,not in\n",
    "#Eg:\n",
    "l1 = [7,8,9,0]\n",
    "num=8\n",
    "print(num in l1)"
   ]
  },
  {
   "cell_type": "code",
   "execution_count": 17,
   "id": "bfd523a4",
   "metadata": {},
   "outputs": [
    {
     "name": "stdout",
     "output_type": "stream",
     "text": [
      "hello\n",
      "yes\n"
     ]
    }
   ],
   "source": [
    "# conditional Statement --> if,elif,else\n",
    "#Eg :\n",
    "a=6\n",
    "if a :\n",
    "    print(\"hello\")\n",
    "#Eg :\n",
    "a=6\n",
    "if a>3:\n",
    "    print(\"yes\")\n",
    "else:\n",
    "    print(\"No\")"
   ]
  },
  {
   "cell_type": "code",
   "execution_count": 18,
   "id": "35a74743",
   "metadata": {},
   "outputs": [
    {
     "name": "stdout",
     "output_type": "stream",
     "text": [
      "no\n"
     ]
    }
   ],
   "source": [
    "#Eg 4:\n",
    "a=0 \n",
    "if a:\n",
    "    print(\"yes\")\n",
    "else :\n",
    "    print(\"no\")"
   ]
  },
  {
   "cell_type": "code",
   "execution_count": 21,
   "id": "72a6306f",
   "metadata": {},
   "outputs": [
    {
     "name": "stdout",
     "output_type": "stream",
     "text": [
      "3\n",
      "odd\n"
     ]
    }
   ],
   "source": [
    "n= int(input())\n",
    "if n%2==0:\n",
    "    print(\"even\")\n",
    "else:\n",
    "    print('odd')"
   ]
  },
  {
   "cell_type": "code",
   "execution_count": 24,
   "id": "518d626d",
   "metadata": {},
   "outputs": [
    {
     "name": "stdout",
     "output_type": "stream",
     "text": [
      "Enter name : g\n",
      "g\n",
      "Enter Age : 18\n",
      " Enter Your Nationality : indian\n",
      "Elegible for vote\n"
     ]
    }
   ],
   "source": [
    "name = str(input(\"Enter name : \"))\n",
    "print(name)\n",
    "Age = int(input(\"Enter Age : \"))\n",
    "nationality = str(input(\" Enter Your Nationality : \"))\n",
    "if Age>=18 and nationality==\"indian\":\n",
    "    print('Elegible for vote')\n",
    "else:\n",
    "    print(\"you are not Eligible\")\n",
    "    "
   ]
  },
  {
   "cell_type": "code",
   "execution_count": 37,
   "id": "048268fc",
   "metadata": {},
   "outputs": [
    {
     "name": "stdout",
     "output_type": "stream",
     "text": [
      "How many sets: 2\n",
      "A & B11 3 45 65 76 \n"
     ]
    },
    {
     "ename": "SyntaxError",
     "evalue": "invalid syntax (<string>, line 1)",
     "output_type": "error",
     "traceback": [
      "Traceback \u001b[1;36m(most recent call last)\u001b[0m:\n",
      "  File \u001b[0;32m\"C:\\Users\\LIO SIVA\\anaconda3\\lib\\site-packages\\IPython\\core\\interactiveshell.py\"\u001b[0m, line \u001b[0;32m3444\u001b[0m, in \u001b[0;35mrun_code\u001b[0m\n    exec(code_obj, self.user_global_ns, self.user_ns)\n",
      "\u001b[1;36m  File \u001b[1;32m\"C:\\Users\\LIOSIV~1\\AppData\\Local\\Temp/ipykernel_20508/922405963.py\"\u001b[1;36m, line \u001b[1;32m2\u001b[1;36m, in \u001b[1;35m<module>\u001b[1;36m\u001b[0m\n\u001b[1;33m    a= eval(input(\"A & B\"))\u001b[0m\n",
      "\u001b[1;36m  File \u001b[1;32m\"<string>\"\u001b[1;36m, line \u001b[1;32m1\u001b[0m\n\u001b[1;33m    11 3 45 65 76\u001b[0m\n\u001b[1;37m       ^\u001b[0m\n\u001b[1;31mSyntaxError\u001b[0m\u001b[1;31m:\u001b[0m invalid syntax\n"
     ]
    }
   ],
   "source": [
    "t= int(input(\"How many sets: \"))\n",
    "a= input(\"A & B\"))\n",
    "a="
   ]
  },
  {
   "cell_type": "code",
   "execution_count": null,
   "id": "aa24f867",
   "metadata": {},
   "outputs": [],
   "source": []
  },
  {
   "cell_type": "code",
   "execution_count": null,
   "id": "1765e14a",
   "metadata": {},
   "outputs": [],
   "source": []
  }
 ],
 "metadata": {
  "kernelspec": {
   "display_name": "Python 3 (ipykernel)",
   "language": "python",
   "name": "python3"
  },
  "language_info": {
   "codemirror_mode": {
    "name": "ipython",
    "version": 3
   },
   "file_extension": ".py",
   "mimetype": "text/x-python",
   "name": "python",
   "nbconvert_exporter": "python",
   "pygments_lexer": "ipython3",
   "version": "3.9.7"
  }
 },
 "nbformat": 4,
 "nbformat_minor": 5
}
