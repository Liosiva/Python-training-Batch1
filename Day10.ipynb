{
 "cells": [
  {
   "cell_type": "code",
   "execution_count": 7,
   "id": "3bc5fdd3",
   "metadata": {},
   "outputs": [
    {
     "name": "stdout",
     "output_type": "stream",
     "text": [
      "Min priced product: 30\n",
      "Max priced product: 1500\n",
      "Products that start with 's' or 'S': ['shirt', 'Shoes']\n"
     ]
    }
   ],
   "source": [
    "d1 = {\"shirt\": 1000, \"pant\": 1500, \"Shoes\": \"900\", \"handkey\": 30}\n",
    "\n",
    "def min_max_price(products):\n",
    "    prices = [int(price) for price in products.values() if isinstance(price, (int, float))]\n",
    "    \n",
    "    if prices:\n",
    "        min_price = min(prices)\n",
    "        max_price = max(prices)\n",
    "        return min_price, max_price\n",
    "    else:\n",
    "        return None, None\n",
    "\n",
    "def startswith_s(products):\n",
    "    s_products = [product for product in products.keys() if product.lower().startswith('s')]\n",
    "    return s_products\n",
    "\n",
    "\n",
    "min_price, max_price = min_max_price(d1)\n",
    "print(\"Min priced product:\", min_price)\n",
    "print(\"Max priced product:\", max_price)\n",
    "\n",
    "s_products = startswith_s(d1)\n",
    "print(\"Products that start with 's' or 'S':\", s_products)\n"
   ]
  },
  {
   "cell_type": "code",
   "execution_count": 3,
   "id": "739f5fa6",
   "metadata": {},
   "outputs": [
    {
     "name": "stdout",
     "output_type": "stream",
     "text": [
      "12\n",
      "12 is not a strong number.\n"
     ]
    }
   ],
   "source": [
    "def factorial(n):\n",
    "    if n == 0:\n",
    "        return 1\n",
    "    else:\n",
    "        return n * factorial(n - 1)\n",
    "\n",
    "def is_strong_number(number):\n",
    "    num_str = str(number)\n",
    "    sum_factorial = 0\n",
    "    \n",
    "    for digit in num_str:\n",
    "        digit_int = int(digit)\n",
    "        sum_factorial += factorial(digit_int)\n",
    "    \n",
    "    return sum_factorial == number\n",
    "\n",
    "n = input()\n",
    "if is_strong_number(n):\n",
    "    print(f\"{n} is a strong number.\")\n",
    "else:\n",
    "    print(f\"{n} is not a strong number.\")\n"
   ]
  },
  {
   "cell_type": "code",
   "execution_count": 5,
   "id": "a12cbd8c",
   "metadata": {},
   "outputs": [
    {
     "name": "stdout",
     "output_type": "stream",
     "text": [
      "IOB rate is 7.5%\n",
      "All banks has repo rate\n"
     ]
    }
   ],
   "source": [
    "#Eg: Inherance1\n",
    "class bank:\n",
    "    def ratio(self):\n",
    "        print(\"All banks has repo rate\")\n",
    "class SBI(bank):\n",
    "    def ration(self):\n",
    "        print(\"SBI rate is 9%\")\n",
    "class IOB(bank):\n",
    "    def ratio(self):\n",
    "        print(\"IOB rate is 7.5%\")\n",
    "i = IOB()\n",
    "i.ratio()\n",
    "\n",
    "s = SBI()\n",
    "s.ratio()"
   ]
  },
  {
   "cell_type": "code",
   "execution_count": 6,
   "id": "70c70579",
   "metadata": {},
   "outputs": [
    {
     "name": "stdout",
     "output_type": "stream",
     "text": [
      "None\n",
      "New Delhi\n"
     ]
    }
   ],
   "source": [
    "#Eg: Inherance2\n",
    "class USA:\n",
    "    def langauge(self):\n",
    "        print(\"English\")\n",
    "    def capital(self):\n",
    "        print(\"Washington DC\")\n",
    "class india(USA):\n",
    "    def langauge(self):\n",
    "        print(\"None\")\n",
    "    def capital(self):\n",
    "        print(\"New Delhi\")\n",
    "I = india()\n",
    "I.langauge()\n",
    "I.capital()\n"
   ]
  },
  {
   "cell_type": "code",
   "execution_count": 13,
   "id": "717eb2e5",
   "metadata": {},
   "outputs": [
    {
     "name": "stdout",
     "output_type": "stream",
     "text": [
      "c1\n",
      "c2\n"
     ]
    }
   ],
   "source": [
    "#Eg: polymorphism using objects\n",
    "class c1:\n",
    "    def f1(self):\n",
    "        print(\"c1\")\n",
    "class c2(c1):\n",
    "    def f1(self):\n",
    "        super().f1() # super function has an ability to access the parent \n",
    "        print(\"c2\")\n",
    "obj1 = c2()\n",
    "obj1.f1()\n",
    "\n",
    "# obj2 =c1()\n",
    "# obj2.f1()\n",
    "\n"
   ]
  },
  {
   "cell_type": "code",
   "execution_count": 17,
   "id": "4ff5de31",
   "metadata": {},
   "outputs": [
    {
     "name": "stdout",
     "output_type": "stream",
     "text": [
      "c2\n",
      "c1\n"
     ]
    }
   ],
   "source": [
    "#Eg: 4\n",
    "class c1:\n",
    "    def f1(self):\n",
    "        print(\"c1\")\n",
    "class c2(c1):\n",
    "    def f1(self):\n",
    "        print(\"c2\")\n",
    "obj1 = c2()\n",
    "obj2 =c1()\n",
    "\n",
    "def display(a):\n",
    "    a.f1()\n",
    "display(obj1)\n",
    "display(obj2)\n"
   ]
  },
  {
   "cell_type": "code",
   "execution_count": 22,
   "id": "111ad7eb",
   "metadata": {},
   "outputs": [
    {
     "name": "stdout",
     "output_type": "stream",
     "text": [
      "15\n"
     ]
    }
   ],
   "source": [
    "#* changing the functionality of builtin functions\n",
    "a = 9\n",
    "b = 6\n",
    "print(a.__add__(b)) # dunder method or mafic method\n"
   ]
  },
  {
   "cell_type": "code",
   "execution_count": 25,
   "id": "09265488",
   "metadata": {},
   "outputs": [
    {
     "name": "stdout",
     "output_type": "stream",
     "text": [
      "7\n"
     ]
    }
   ],
   "source": [
    "class shooping:\n",
    "    def __init__(self,l1):\n",
    "        self.items = l1\n",
    "    def __len__(self):\n",
    "        length = len(self.items)\n",
    "        return length\n",
    "s = shooping([1,2,3,4,5,6,7])\n",
    "print(len(s))"
   ]
  },
  {
   "cell_type": "code",
   "execution_count": 26,
   "id": "fd69cc38",
   "metadata": {},
   "outputs": [
    {
     "ename": "TypeError",
     "evalue": "add() missing 1 required positional argument: 'c'",
     "output_type": "error",
     "traceback": [
      "\u001b[1;31m---------------------------------------------------------------------------\u001b[0m",
      "\u001b[1;31mTypeError\u001b[0m                                 Traceback (most recent call last)",
      "\u001b[1;32mC:\\Users\\LIOSIV~1\\AppData\\Local\\Temp/ipykernel_7176/3910333223.py\u001b[0m in \u001b[0;36m<module>\u001b[1;34m\u001b[0m\n\u001b[0;32m      7\u001b[0m         \u001b[0mprint\u001b[0m\u001b[1;33m(\u001b[0m\u001b[0ma\u001b[0m\u001b[1;33m+\u001b[0m\u001b[0mb\u001b[0m\u001b[1;33m+\u001b[0m\u001b[0mc\u001b[0m\u001b[1;33m)\u001b[0m\u001b[1;33m\u001b[0m\u001b[1;33m\u001b[0m\u001b[0m\n\u001b[0;32m      8\u001b[0m \u001b[0ms\u001b[0m \u001b[1;33m=\u001b[0m \u001b[0msuming\u001b[0m\u001b[1;33m(\u001b[0m\u001b[1;33m)\u001b[0m\u001b[1;33m\u001b[0m\u001b[1;33m\u001b[0m\u001b[0m\n\u001b[1;32m----> 9\u001b[1;33m \u001b[0ms\u001b[0m\u001b[1;33m.\u001b[0m\u001b[0madd\u001b[0m\u001b[1;33m(\u001b[0m\u001b[1;36m4\u001b[0m\u001b[1;33m,\u001b[0m\u001b[1;36m3\u001b[0m\u001b[1;33m)\u001b[0m\u001b[1;33m\u001b[0m\u001b[1;33m\u001b[0m\u001b[0m\n\u001b[0m\u001b[0;32m     10\u001b[0m \u001b[0ms\u001b[0m\u001b[1;33m.\u001b[0m\u001b[0madd\u001b[0m\u001b[1;33m(\u001b[0m\u001b[1;36m4\u001b[0m\u001b[1;33m,\u001b[0m\u001b[1;36m3\u001b[0m\u001b[1;33m,\u001b[0m\u001b[1;36m1\u001b[0m\u001b[1;33m)\u001b[0m\u001b[1;33m\u001b[0m\u001b[1;33m\u001b[0m\u001b[0m\n",
      "\u001b[1;31mTypeError\u001b[0m: add() missing 1 required positional argument: 'c'"
     ]
    }
   ],
   "source": [
    "#! method over lapping \n",
    "#Eg:\n",
    "class suming():\n",
    "    def add(self,a,b):\n",
    "        print(a+b)\n",
    "    def add(self,a,b,c):\n",
    "        print(a+b+c)\n",
    "s = suming()\n",
    "s.add(4,3) #--> Error \n",
    "s.add(4,3,1)"
   ]
  },
  {
   "cell_type": "code",
   "execution_count": 28,
   "id": "7a317587",
   "metadata": {},
   "outputs": [
    {
     "name": "stdout",
     "output_type": "stream",
     "text": [
      "2\n",
      "3\n",
      "6\n"
     ]
    }
   ],
   "source": [
    "\n",
    "class summing:\n",
    "    def add(self,a=None,b=None,c=None):\n",
    "        if a!=None and b!= None and c!=None:\n",
    "            print(a+b+c)\n",
    "        elif a!=None and c!=None:\n",
    "            print(a+b)\n",
    "        else:\n",
    "            print(a)\n",
    "obj = summing()\n",
    "obj.add(2)\n",
    "obj.add(3,4)\n",
    "obj.add(1,2,3)"
   ]
  },
  {
   "cell_type": "code",
   "execution_count": null,
   "id": "8eca6164",
   "metadata": {},
   "outputs": [],
   "source": []
  }
 ],
 "metadata": {
  "kernelspec": {
   "display_name": "Python 3 (ipykernel)",
   "language": "python",
   "name": "python3"
  },
  "language_info": {
   "codemirror_mode": {
    "name": "ipython",
    "version": 3
   },
   "file_extension": ".py",
   "mimetype": "text/x-python",
   "name": "python",
   "nbconvert_exporter": "python",
   "pygments_lexer": "ipython3",
   "version": "3.9.7"
  }
 },
 "nbformat": 4,
 "nbformat_minor": 5
}
