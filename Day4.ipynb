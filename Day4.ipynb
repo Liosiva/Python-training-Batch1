{
 "cells": [
  {
   "cell_type": "code",
   "execution_count": 20,
   "id": "adeacdaa",
   "metadata": {},
   "outputs": [
    {
     "name": "stdout",
     "output_type": "stream",
     "text": [
      "5\n",
      "    * \n",
      "   * * \n",
      "  * * * \n",
      " * * * * \n",
      "* * * * * \n",
      " * * * * \n",
      "  * * * \n",
      "   * * \n",
      "    * \n"
     ]
    }
   ],
   "source": [
    "n =int(input())\n",
    "for i in range (0,n):\n",
    "    for j in range (0,n-i-1):\n",
    "        print(\" \", end=\"\")\n",
    "    for j in range (0,i+1):\n",
    "        print(\"* \",end=\"\")\n",
    "    print()\n",
    "for i in range(0,i):\n",
    "    for j in range (0,i+1):\n",
    "        print(\" \",end=\"\")\n",
    "    for j in range (0,n-i-1):\n",
    "        print(\"* \",end=\"\")\n",
    "    print()"
   ]
  },
  {
   "cell_type": "code",
   "execution_count": 23,
   "id": "100a0e33",
   "metadata": {},
   "outputs": [
    {
     "name": "stdout",
     "output_type": "stream",
     "text": [
      "gyugg\n",
      "{'u', 'g', 'y'}\n"
     ]
    }
   ],
   "source": [
    "n = set(input())\n",
    "print(n)\n"
   ]
  },
  {
   "cell_type": "code",
   "execution_count": 33,
   "id": "148f1a04",
   "metadata": {},
   "outputs": [
    {
     "name": "stdout",
     "output_type": "stream",
     "text": [
      "21\n",
      "22\n",
      "23\n",
      "24\n",
      "25\n",
      "26\n",
      "28\n",
      "29\n",
      "30\n"
     ]
    }
   ],
   "source": [
    "i=20\n",
    "while i<30:\n",
    "    i=i+1\n",
    "    if i==27:\n",
    "        continue\n",
    "    print(i)\n",
    "\n",
    "        \n",
    "        "
   ]
  },
  {
   "cell_type": "code",
   "execution_count": 50,
   "id": "d47d5bc8",
   "metadata": {},
   "outputs": [
    {
     "name": "stdout",
     "output_type": "stream",
     "text": [
      "181\n"
     ]
    }
   ],
   "source": [
    "i=12\n",
    "while i<23:\n",
    "    l=i+1\n",
    "    for j in range (0,l):\n",
    "        i=l+i\n",
    "print(i)"
   ]
  },
  {
   "cell_type": "code",
   "execution_count": 53,
   "id": "b0010fc5",
   "metadata": {},
   "outputs": [
    {
     "name": "stdout",
     "output_type": "stream",
     "text": [
      "187\n"
     ]
    }
   ],
   "source": [
    "i=12\n",
    "sum=0\n",
    "while i<23:\n",
    "    sum=sum+i\n",
    "    i+=1\n",
    "print(sum)"
   ]
  },
  {
   "cell_type": "code",
   "execution_count": 110,
   "id": "8d35747d",
   "metadata": {},
   "outputs": [
    {
     "name": "stdout",
     "output_type": "stream",
     "text": [
      "2\n",
      "*\n",
      "*\n"
     ]
    }
   ],
   "source": [
    "n=int(input())\n",
    "for row in range (0,n):\n",
    "    for col in range (0,n-1):\n",
    "        print(\"*\")\n",
    "    for row1 in range \n",
    "        \n",
    "    \n",
    "    \n",
    "    \n",
    "        \n",
    "            "
   ]
  },
  {
   "cell_type": "code",
   "execution_count": 81,
   "id": "d82fa797",
   "metadata": {},
   "outputs": [
    {
     "name": "stdout",
     "output_type": "stream",
     "text": [
      "1 1\n",
      "1 2\n",
      "2 1\n",
      "2 2\n"
     ]
    }
   ],
   "source": [
    "for i in range(1,3):\n",
    "    for j in range (1,3):\n",
    "        print(i,j)"
   ]
  },
  {
   "cell_type": "code",
   "execution_count": 8,
   "id": "fb2cc227",
   "metadata": {},
   "outputs": [
    {
     "name": "stdout",
     "output_type": "stream",
     "text": [
      "5\n",
      "*         \n",
      "* *       \n",
      "*   *     \n",
      "*     *   \n",
      "* * * * * \n"
     ]
    }
   ],
   "source": [
    "n = int(input())\n",
    "for row in  range(0,n):\n",
    "    for col in range (0,n):\n",
    "        if col==0 or row==n-1 or row==col:\n",
    "            print(\"*\",end=\" \")\n",
    "        else :\n",
    "            print(\" \",end=\" \")\n",
    "    print()"
   ]
  },
  {
   "cell_type": "code",
   "execution_count": 15,
   "id": "ac0c3195",
   "metadata": {},
   "outputs": [
    {
     "name": "stdout",
     "output_type": "stream",
     "text": [
      "10\n",
      "* * * * * * * * * * \n",
      "*                 * \n",
      "*                 * \n",
      "*                 * \n",
      "*                 * \n",
      "*                 * \n",
      "*                 * \n",
      "*                 * \n",
      "*                 * \n",
      "* * * * * * * * * * \n"
     ]
    }
   ],
   "source": [
    "n= int(input())\n",
    "for row in range (0,n):\n",
    "    for col in range(0,n):\n",
    "        if col==0 or row==n-1 or row==0 or col==n-1:\n",
    "            print(\"*\",end=\" \")\n",
    "        else :\n",
    "            print(\" \",end=\" \")\n",
    "    print()"
   ]
  },
  {
   "cell_type": "code",
   "execution_count": 32,
   "id": "9d7c4a60",
   "metadata": {},
   "outputs": [
    {
     "name": "stdout",
     "output_type": "stream",
     "text": [
      "3\n",
      "      \n",
      "  *   \n",
      "    * \n"
     ]
    }
   ],
   "source": [
    "n= int(input())\n",
    "for row in range (0,n):\n",
    "    for col in range(0,n):\n",
    "        if (col==n/2 and row==0) or (col>=n/3 and row==) :\n",
    "            print(\"*\",end=\" \")\n",
    "        else :\n",
    "            print(\" \",end=\" \")\n",
    "    print()"
   ]
  },
  {
   "cell_type": "code",
   "execution_count": 27,
   "id": "746efeae",
   "metadata": {},
   "outputs": [
    {
     "name": "stdout",
     "output_type": "stream",
     "text": [
      "5\n",
      "* * * * * \n",
      "  *     * \n",
      "    *   * \n",
      "      * * \n",
      "        * \n"
     ]
    }
   ],
   "source": [
    "n = int(input())\n",
    "for row in  range(n,0,-1):\n",
    "    for col in range (n,0,-1):\n",
    "        if col==+1 or row==n or row==col:\n",
    "            print(\"*\",end=\" \")\n",
    "        else :\n",
    "            print(\" \",end=\" \")\n",
    "    print()"
   ]
  },
  {
   "cell_type": "code",
   "execution_count": null,
   "id": "f31cbb30",
   "metadata": {},
   "outputs": [],
   "source": [
    "# --> list \n",
    "#====> data types \n",
    "#-->primary \n",
    "#number --> int,float complex\n",
    "#string\n",
    "#boolean \n",
    "##none\n",
    "\n",
    "\n",
    "#---> collection \n",
    "# List\n",
    "#tuple\n",
    "#set \n",
    "#dictionary\n"
   ]
  },
  {
   "cell_type": "code",
   "execution_count": null,
   "id": "1d711674",
   "metadata": {},
   "outputs": [],
   "source": [
    "#--> List\n",
    "\" if been collection of element sorounded by square brackets, it is considered to be list\"\n",
    "#Eg:\n",
    "# l1=[4,7,8,9.6,\"hello\",7+9j,[8,9,0]]\n",
    "\n",
    "\"charactriistics of List \"\n",
    "#1) list have to be sorrounded by[]\n",
    "#2) it is mutable (the elements in the list are changeble)\n",
    "#3) Every element inside list is indexed\n",
    "#4) The Elements inside list will be ordeed format\n",
    "#5) it can hold duplicate values\n",
    "#6) its heterogenous\n"
   ]
  },
  {
   "cell_type": "code",
   "execution_count": 33,
   "id": "b22f1fee",
   "metadata": {},
   "outputs": [
    {
     "name": "stdout",
     "output_type": "stream",
     "text": [
      "[1, 2, 4, 5.6, 'hello']\n"
     ]
    }
   ],
   "source": [
    "# to accesss the elements in list\n",
    "l1 = [1,2,4,5.6,\"hello\",]\n",
    "print(l1)"
   ]
  },
  {
   "cell_type": "code",
   "execution_count": 36,
   "id": "b4ab2c9d",
   "metadata": {},
   "outputs": [
    {
     "name": "stdout",
     "output_type": "stream",
     "text": [
      "1\n"
     ]
    }
   ],
   "source": [
    "#--> indexing\n",
    "'''in the collection datatypes like list,tuple,string,the elements will be alloted \n",
    "   with pre-defined unique value called index value'''\n",
    "'''We have 2 types of indexing \n",
    "   1) positive indexing -- > start with 0 from left hand side\n",
    "   2) negitive indexing -- > start with -1 from right hand side'''\n",
    "l1 = [1,2,3,4.5,'h',4]\n",
    "print(l1[0])"
   ]
  },
  {
   "cell_type": "code",
   "execution_count": 41,
   "id": "e808c5a3",
   "metadata": {},
   "outputs": [
    {
     "name": "stdout",
     "output_type": "stream",
     "text": [
      "<class 'int'> 4\n"
     ]
    }
   ],
   "source": [
    "l1 = [1,2,4,5.6,\"hello\",]\n",
    "print(type(l1[-3]),l1[-3])"
   ]
  },
  {
   "cell_type": "code",
   "execution_count": 2,
   "id": "6426b677",
   "metadata": {},
   "outputs": [
    {
     "name": "stdout",
     "output_type": "stream",
     "text": [
      "[1, 2, 4, 5.6]\n"
     ]
    }
   ],
   "source": [
    "# --->slicing\n",
    "l1 = [1,2,4,5.6,\"hello\"]\n",
    "print(l1[0:4])"
   ]
  },
  {
   "cell_type": "code",
   "execution_count": 11,
   "id": "3b159520",
   "metadata": {},
   "outputs": [
    {
     "name": "stdout",
     "output_type": "stream",
     "text": [
      "['hello', 'i']\n"
     ]
    }
   ],
   "source": [
    "l1 = [1,2,4,5.6,\"hello\",'i']\n",
    "print(l1[4:6])"
   ]
  },
  {
   "cell_type": "code",
   "execution_count": 13,
   "id": "746c5410",
   "metadata": {},
   "outputs": [
    {
     "name": "stdout",
     "output_type": "stream",
     "text": [
      "[4, 5.6, 'hello', 'i']\n"
     ]
    }
   ],
   "source": [
    "l1 = [1,2,4,5.6,\"hello\",'i']\n",
    "print(l1[2:])"
   ]
  },
  {
   "cell_type": "code",
   "execution_count": 14,
   "id": "9239fa0b",
   "metadata": {},
   "outputs": [
    {
     "name": "stdout",
     "output_type": "stream",
     "text": [
      "[1, 2, 4, 5.6, 'hello', 'i']\n"
     ]
    }
   ],
   "source": [
    "l1 = [1,2,4,5.6,\"hello\",'i']\n",
    "print(l1[:])"
   ]
  },
  {
   "cell_type": "code",
   "execution_count": 15,
   "id": "e30789b3",
   "metadata": {},
   "outputs": [
    {
     "name": "stdout",
     "output_type": "stream",
     "text": [
      "[1, 2, 4, 5.6, 'hello', 'i']\n"
     ]
    }
   ],
   "source": [
    "l1 = [1,2,4,5.6,\"hello\",'i']\n",
    "print(l1[0:6:1])"
   ]
  },
  {
   "cell_type": "code",
   "execution_count": 16,
   "id": "de0f29d6",
   "metadata": {},
   "outputs": [
    {
     "name": "stdout",
     "output_type": "stream",
     "text": [
      "[1, 4, 'hello']\n"
     ]
    }
   ],
   "source": [
    "l1 = [1,2,4,5.6,\"hello\",'i']\n",
    "print(l1[0:6:2])"
   ]
  },
  {
   "cell_type": "code",
   "execution_count": 18,
   "id": "88fb6b4c",
   "metadata": {},
   "outputs": [
    {
     "name": "stdout",
     "output_type": "stream",
     "text": [
      "[4, 5.6, 'hello', 'i']\n"
     ]
    }
   ],
   "source": [
    "l1 = [1,2,4,5.6,\"hello\",'i']\n",
    "print(l1[-4:])"
   ]
  },
  {
   "cell_type": "code",
   "execution_count": 19,
   "id": "37d1bbbb",
   "metadata": {},
   "outputs": [
    {
     "name": "stdout",
     "output_type": "stream",
     "text": [
      "[4, 5.6, 'hello']\n"
     ]
    }
   ],
   "source": [
    "l1 = [1,2,4,5.6,\"hello\",'i']\n",
    "print(l1[-4:-1])"
   ]
  },
  {
   "cell_type": "code",
   "execution_count": 21,
   "id": "51d6454f",
   "metadata": {},
   "outputs": [
    {
     "name": "stdout",
     "output_type": "stream",
     "text": [
      "[1, 4, 'hello']\n"
     ]
    }
   ],
   "source": [
    "l1 = [1,2,4,5.6,\"hello\",'i']\n",
    "print(l1[-6:-1:2])"
   ]
  },
  {
   "cell_type": "code",
   "execution_count": 50,
   "id": "59bd787e",
   "metadata": {},
   "outputs": [
    {
     "name": "stdout",
     "output_type": "stream",
     "text": [
      "\n"
     ]
    },
    {
     "ename": "ValueError",
     "evalue": "invalid literal for int() with base 10: ''",
     "output_type": "error",
     "traceback": [
      "\u001b[1;31m---------------------------------------------------------------------------\u001b[0m",
      "\u001b[1;31mValueError\u001b[0m                                Traceback (most recent call last)",
      "\u001b[1;32mC:\\Users\\LIOSIV~1\\AppData\\Local\\Temp/ipykernel_13440/1577248652.py\u001b[0m in \u001b[0;36m<module>\u001b[1;34m\u001b[0m\n\u001b[1;32m----> 1\u001b[1;33m \u001b[0mn\u001b[0m\u001b[1;33m=\u001b[0m \u001b[0mint\u001b[0m\u001b[1;33m(\u001b[0m\u001b[0minput\u001b[0m\u001b[1;33m(\u001b[0m\u001b[1;33m)\u001b[0m\u001b[1;33m)\u001b[0m\u001b[1;33m\u001b[0m\u001b[1;33m\u001b[0m\u001b[0m\n\u001b[0m\u001b[0;32m      2\u001b[0m \u001b[1;33m\u001b[0m\u001b[0m\n\u001b[0;32m      3\u001b[0m \u001b[0ma\u001b[0m\u001b[1;33m=\u001b[0m \u001b[0mint\u001b[0m\u001b[1;33m(\u001b[0m\u001b[0minput\u001b[0m\u001b[1;33m(\u001b[0m\u001b[1;33m)\u001b[0m\u001b[1;33m)\u001b[0m\u001b[1;33m\u001b[0m\u001b[1;33m\u001b[0m\u001b[0m\n\u001b[0;32m      4\u001b[0m \u001b[0msum\u001b[0m\u001b[1;33m=\u001b[0m\u001b[1;36m8\u001b[0m\u001b[1;33m\u001b[0m\u001b[1;33m\u001b[0m\u001b[0m\n\u001b[0;32m      5\u001b[0m \u001b[1;32mfor\u001b[0m \u001b[0mi\u001b[0m \u001b[1;32min\u001b[0m \u001b[0mrange\u001b[0m \u001b[1;33m(\u001b[0m\u001b[1;36m0\u001b[0m\u001b[1;33m,\u001b[0m\u001b[0mn\u001b[0m\u001b[1;33m+\u001b[0m\u001b[1;36m1\u001b[0m\u001b[1;33m)\u001b[0m\u001b[1;33m:\u001b[0m\u001b[1;33m\u001b[0m\u001b[1;33m\u001b[0m\u001b[0m\n",
      "\u001b[1;31mValueError\u001b[0m: invalid literal for int() with base 10: ''"
     ]
    }
   ],
   "source": [
    "n= int(input())\n",
    "\n",
    "a= int(input())\n",
    "sum=8\n",
    "for i in range (0,n+1):\n",
    "    if i==0:\n",
    "        print(a,end=\" \")\n",
    "    elif i==1 :\n",
    "        k=a+sum\n",
    "        print(k,end=\" \")\n",
    "        k=k+sum\n",
    "    elif i==2 or i==3 :\n",
    "        print(k,end=\" \")\n",
    "        k=k+sum+sum\n",
    "    else :\n",
    "        print(k,end=\" \")\n",
    "        i=-(i-n)\n",
    "        k=k+i*sum\n",
    "print()"
   ]
  },
  {
   "cell_type": "code",
   "execution_count": null,
   "id": "2fc4926b",
   "metadata": {},
   "outputs": [],
   "source": [
    "n= int(input())\n",
    "\n",
    "a= int(input())\n",
    "sum=8\n",
    "for i in range (0,n+1):\n",
    "    for j in range (0,n+1):\n",
    "        print(a,end=\" \")\n",
    "        "
   ]
  },
  {
   "cell_type": "code",
   "execution_count": 47,
   "id": "432ffd95",
   "metadata": {},
   "outputs": [
    {
     "name": "stdout",
     "output_type": "stream",
     "text": [
      "7\n",
      "1\n",
      "1  9 17  33 33 "
     ]
    }
   ],
   "source": [
    "n= int(input())\n",
    "\n",
    "a= int(input())\n",
    "sum=8\n",
    "for i in range (0,2):\n",
    "    if i==0:\n",
    "        print(a,end=\" \")\n",
    "    else :\n",
    "        for j in range (0,2):\n",
    "            k=sum+a\n",
    "            print(k,end=\" \")\n",
    "            sum=sum+sum\n",
    "    print(end=\" \")\n",
    "for j in range (0,2):\n",
    "        k=sum+a\n",
    "        print(k,end=\" \")\n",
    "        sum=sum\n"
   ]
  },
  {
   "cell_type": "code",
   "execution_count": null,
   "id": "bad22479",
   "metadata": {},
   "outputs": [],
   "source": []
  }
 ],
 "metadata": {
  "kernelspec": {
   "display_name": "Python 3 (ipykernel)",
   "language": "python",
   "name": "python3"
  },
  "language_info": {
   "codemirror_mode": {
    "name": "ipython",
    "version": 3
   },
   "file_extension": ".py",
   "mimetype": "text/x-python",
   "name": "python",
   "nbconvert_exporter": "python",
   "pygments_lexer": "ipython3",
   "version": "3.9.7"
  }
 },
 "nbformat": 4,
 "nbformat_minor": 5
}
