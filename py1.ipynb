{
 "cells": [
  {
   "cell_type": "code",
   "execution_count": 1,
   "id": "0bbba814",
   "metadata": {},
   "outputs": [
    {
     "name": "stdout",
     "output_type": "stream",
     "text": [
      "Hello World\n"
     ]
    }
   ],
   "source": [
    "print(\"Hello World\") "
   ]
  },
  {
   "cell_type": "code",
   "execution_count": null,
   "id": "175a3e01",
   "metadata": {},
   "outputs": [],
   "source": [
    "1.commenting is used for making documentation in a python file \n",
    "2.when the is commented that line will not be consideredas a part of the code.\n",
    "3.when the program is execitred commented line will not be in the part of execution.\n",
    "Note--->:\n",
    "    single line commenting can be done by ising # at the beginning of the line \n",
    "    Eg : \n",
    "        #print(\"hello 1\")\n",
    "multipule line commenting can be done by using '''code'''. The lines between the quotes will be commented.\n",
    "  Eg :\n",
    "        \"\"\" print(\"hello 1\")\n",
    "        print(\"hello 1\")\n",
    "        print(hello 1)\"\"\"\n",
    "        "
   ]
  },
  {
   "cell_type": "code",
   "execution_count": 2,
   "id": "ead37f12",
   "metadata": {},
   "outputs": [
    {
     "name": "stdout",
     "output_type": "stream",
     "text": [
      "The Zen of Python, by Tim Peters\n",
      "\n",
      "Beautiful is better than ugly.\n",
      "Explicit is better than implicit.\n",
      "Simple is better than complex.\n",
      "Complex is better than complicated.\n",
      "Flat is better than nested.\n",
      "Sparse is better than dense.\n",
      "Readability counts.\n",
      "Special cases aren't special enough to break the rules.\n",
      "Although practicality beats purity.\n",
      "Errors should never pass silently.\n",
      "Unless explicitly silenced.\n",
      "In the face of ambiguity, refuse the temptation to guess.\n",
      "There should be one-- and preferably only one --obvious way to do it.\n",
      "Although that way may not be obvious at first unless you're Dutch.\n",
      "Now is better than never.\n",
      "Although never is often better than *right* now.\n",
      "If the implementation is hard to explain, it's a bad idea.\n",
      "If the implementation is easy to explain, it may be a good idea.\n",
      "Namespaces are one honking great idea -- let's do more of those!\n"
     ]
    }
   ],
   "source": [
    "import this \n"
   ]
  },
  {
   "cell_type": "code",
   "execution_count": null,
   "id": "4b5d5a09",
   "metadata": {},
   "outputs": [],
   "source": [
    "#import is a keyword which is used to communicated between the pyton files."
   ]
  },
  {
   "cell_type": "code",
   "execution_count": 3,
   "id": "b15cd7e1",
   "metadata": {},
   "outputs": [],
   "source": [
    "import antigravity"
   ]
  },
  {
   "cell_type": "code",
   "execution_count": null,
   "id": "a257fea9",
   "metadata": {},
   "outputs": [],
   "source": [
    "'''Bargained charecters\n",
    "\n",
    "    Controls and data structures --> ABC language\n",
    "    strings and its formates --> from C\n",
    "    Regular expressions --> Pearl\n",
    "    Exception handling --> Module 3\n",
    "    Magic methods from --> fortron'''"
   ]
  },
  {
   "cell_type": "code",
   "execution_count": null,
   "id": "febe8522",
   "metadata": {},
   "outputs": [],
   "source": [
    "'''what kind of language is python ?\n",
    "\n",
    "   python is a \n",
    "              \n",
    "              >Object oriented programing language \n",
    "              >Dynamically typed language \n",
    "              >interpreted language\n",
    "              >Compiled Language \n",
    "                                         '''"
   ]
  },
  {
   "cell_type": "code",
   "execution_count": null,
   "id": "f97d9d95",
   "metadata": {},
   "outputs": [],
   "source": [
    "'''Flavours of Python \n",
    "\n",
    " > Cpython - Written in C,MOst common implementation of python.\n",
    " > Jython  - Java implementation of python.\n",
    " > Ironpython - implementation of the Python programming language which is tightly integrated with .Net.\n",
    " > Brython - Browser Python,Runs in browsers.\n",
    " > RubyPython - Bridge between Python and Ruby interpreters.\n",
    " > MicroPython - Runs in MIcro Controllers.'''"
   ]
  },
  {
   "cell_type": "code",
   "execution_count": 17,
   "id": "e5165696",
   "metadata": {},
   "outputs": [
    {
     "name": "stdout",
     "output_type": "stream",
     "text": [
      "enter the operation: \"+\"\n"
     ]
    }
   ],
   "source": [
    "class arthimatic :\n",
    "    def sum(self, a,b):\n",
    "         print(a+b)\n",
    "    def sub(self, a,b):\n",
    "        print(a-b)\n",
    "class scientific :\n",
    "    def sin(self):\n",
    "        print(\"its sin function\")\n",
    "obj1=arthimatic()\n",
    "operation = input(\"enter the operation: \")\n",
    "if operation ==\"+\":\n",
    "    obj1.sum(2,3)\n",
    "elif operation ==\"-\":\n",
    "    obj1.sub(6,3)\n",
    "    "
   ]
  },
  {
   "cell_type": "code",
   "execution_count": null,
   "id": "a326ec53",
   "metadata": {},
   "outputs": [],
   "source": [
    "'''--> prin has 5 parameters \n",
    "   > object --> the value to be printed is object \n",
    "   > sep --> seperator \n",
    "     Eg : \n",
    "     a= 8\n",
    "     b=9\n",
    "     c=10\n",
    "     '''"
   ]
  },
  {
   "cell_type": "code",
   "execution_count": 23,
   "id": "6b51f9ac",
   "metadata": {},
   "outputs": [
    {
     "name": "stdout",
     "output_type": "stream",
     "text": [
      "Enter the char: -\n",
      "-4\n"
     ]
    }
   ],
   "source": [
    "class arithmatic:\n",
    "    def summ(self, a, b):\n",
    "        print(a+b)\n",
    "        \n",
    "    def sub(self, a, b):\n",
    "        print(a-b)\n",
    "obj = arithmatic()\n",
    "oper = input(\"Enter the char: \")\n",
    "if oper==\"+\":\n",
    "    obj.summ(3, 6)\n",
    "elif oper==\"-\":\n",
    "    obj.sub(4, 8)\n",
    "    "
   ]
  },
  {
   "cell_type": "code",
   "execution_count": null,
   "id": "f3f9d9e2",
   "metadata": {},
   "outputs": [],
   "source": []
  }
 ],
 "metadata": {
  "kernelspec": {
   "display_name": "Python 3 (ipykernel)",
   "language": "python",
   "name": "python3"
  },
  "language_info": {
   "codemirror_mode": {
    "name": "ipython",
    "version": 3
   },
   "file_extension": ".py",
   "mimetype": "text/x-python",
   "name": "python",
   "nbconvert_exporter": "python",
   "pygments_lexer": "ipython3",
   "version": "3.9.7"
  }
 },
 "nbformat": 4,
 "nbformat_minor": 5
}
