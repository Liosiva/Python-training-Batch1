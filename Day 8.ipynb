{
 "cells": [
  {
   "cell_type": "code",
   "execution_count": 4,
   "id": "cd3de355",
   "metadata": {},
   "outputs": [
    {
     "name": "stdout",
     "output_type": "stream",
     "text": [
      "Input name:Siva\n",
      "Input Age :22\n",
      "Input place:kdp\n",
      "My name is Siva.iam 22 years old.iam from kdp.\n"
     ]
    }
   ],
   "source": [
    "# Eg : Functions\n",
    "def profile(name,age,place):\n",
    "    txt = \"My name is {}.iam {} years old.iam from {}.\"\n",
    "    print(txt.format(name,age,place))\n",
    "profile(input(\"Input name:\"),input(\"Input Age :\"),input(\"Input place:\"))"
   ]
  },
  {
   "cell_type": "code",
   "execution_count": null,
   "id": "9a26d2ad",
   "metadata": {},
   "outputs": [],
   "source": [
    "# Function with Return Statement\n",
    "#def f1():\n",
    "#      z=8\n",
    "# f1()\n",
    "# print(z) #--> We get the error bcoz the variable name is declared inside the local function and the print was written in outside the function"
   ]
  },
  {
   "cell_type": "code",
   "execution_count": 24,
   "id": "8af5c8d3",
   "metadata": {},
   "outputs": [
    {
     "name": "stdout",
     "output_type": "stream",
     "text": [
      "4\n",
      "5\n",
      "24\n"
     ]
    }
   ],
   "source": [
    "def f1(a,b):\n",
    "    c = a*b\n",
    "    return c\n",
    "b= int(input())\n",
    "a= int(input())\n",
    "obj =f1(a,b)\n",
    "\n",
    "def gracemark():\n",
    "    print(obj+4)\n",
    "gracemark()"
   ]
  },
  {
   "cell_type": "code",
   "execution_count": null,
   "id": "8e423128",
   "metadata": {},
   "outputs": [],
   "source": [
    "# return \n",
    "# 1) A variable declared inside the function can be accessed outside the function using return\n",
    "#2)return doesnot print anything\n",
    "#3) We can not code anything below the return statement"
   ]
  },
  {
   "cell_type": "code",
   "execution_count": 36,
   "id": "72c0623c",
   "metadata": {},
   "outputs": [
    {
     "name": "stdout",
     "output_type": "stream",
     "text": [
      "121\n",
      "121 palindrome\n"
     ]
    }
   ],
   "source": [
    "# palandrom or not\n",
    "#123\n",
    "def val(n):\n",
    "    string = str(n)\n",
    "    rev = str(n)[::-1]\n",
    "    if string==rev:\n",
    "        print(n,\"palindrome\")\n",
    "    else:\n",
    "        print(\"Not Palindrome\")\n",
    "a = int(input())\n",
    "val(a)\n",
    "\n",
    "        "
   ]
  },
  {
   "cell_type": "code",
   "execution_count": 40,
   "id": "f110360d",
   "metadata": {},
   "outputs": [
    {
     "name": "stdout",
     "output_type": "stream",
     "text": [
      "My name is 19.iam siva years old.iam from 78.\n"
     ]
    }
   ],
   "source": [
    "# Based on the declaration of parameters and argumments\n",
    "# --> Functions are divided into 5 catagories\n",
    "#>Positional args\n",
    "#>Keyword args\n",
    "#>Default args\n",
    "#> variable length args\n",
    "#> Keyword variable length args\n",
    "\n",
    "#* Positional argumments-->\n",
    "#Eg;\n",
    "# the position of parameter have to be same as position as arguments\n",
    "def profile(name,age,place):\n",
    "    txt = \"My name is {}.iam {} years old.iam from {}.\"\n",
    "    print(txt.format(name,age,place))\n",
    "profile(19,\"siva\",78)# Unexpected output"
   ]
  },
  {
   "cell_type": "code",
   "execution_count": 41,
   "id": "49f3b0d8",
   "metadata": {},
   "outputs": [
    {
     "name": "stdout",
     "output_type": "stream",
     "text": [
      "My name is siva.iam 22 years old.iam from kdp.\n"
     ]
    }
   ],
   "source": [
    "#* Keyword Arguments\n",
    "#> To overcome the disadvantage of positional args\n",
    "#it is the process of initialising the parameter with the args while calling the function\n",
    "def profile(name,age,place):\n",
    "    txt = \"My name is {}.iam {} years old.iam from {}.\"\n",
    "    print(txt.format(name,age,place))\n",
    "profile(name = \"siva\",place= \"kdp\",age=22)"
   ]
  },
  {
   "cell_type": "code",
   "execution_count": 44,
   "id": "14db4596",
   "metadata": {},
   "outputs": [
    {
     "ename": "SyntaxError",
     "evalue": "positional argument follows keyword argument (Temp/ipykernel_10748/3692168132.py, line 4)",
     "output_type": "error",
     "traceback": [
      "\u001b[1;36m  File \u001b[1;32m\"C:\\Users\\LIOSIV~1\\AppData\\Local\\Temp/ipykernel_10748/3692168132.py\"\u001b[1;36m, line \u001b[1;32m4\u001b[0m\n\u001b[1;33m    profile(name = \"siva\",22,place= \"kdp\")\u001b[0m\n\u001b[1;37m                                         ^\u001b[0m\n\u001b[1;31mSyntaxError\u001b[0m\u001b[1;31m:\u001b[0m positional argument follows keyword argument\n"
     ]
    }
   ],
   "source": [
    "#--> Todo = Exception of keyword args function\n",
    "def profile(name,age,place):\n",
    "    txt = \"My name is {}.iam {} years old.iam from {}.\"\n",
    "    print(txt.format(name,age,place))\n",
    "profile(name = \"siva\",22,place= \"kdp\")#> Error the combination of argumemnts type should follow positional after  Keyword args"
   ]
  },
  {
   "cell_type": "code",
   "execution_count": 45,
   "id": "570ff2a4",
   "metadata": {},
   "outputs": [
    {
     "name": "stdout",
     "output_type": "stream",
     "text": [
      "My name is siva.iam 22 years old.iam from kdp.\n"
     ]
    }
   ],
   "source": [
    "#--> Todo = Exception of keyword args function\n",
    "def profile(name,age,place):\n",
    "    txt = \"My name is {}.iam {} years old.iam from {}.\"\n",
    "    print(txt.format(name,age,place))\n",
    "profile(\"siva\",22,place= \"kdp\")#> the combination of argumemnts type should follow positional after  Keyword args"
   ]
  },
  {
   "cell_type": "code",
   "execution_count": 47,
   "id": "864ac738",
   "metadata": {},
   "outputs": [
    {
     "name": "stdout",
     "output_type": "stream",
     "text": [
      "My name is siva.iam 22 years old.iam from kadapa.\n"
     ]
    }
   ],
   "source": [
    "#* Default Args\n",
    "#--> The method of assigning the arguments to the parameter while declaring the function\n",
    "#Eg :\n",
    "def profile(name,age,place=\"kadapa\"): # giving the argument to the function declaration\n",
    "    txt = \"My name is {}.iam {} years old.iam from {}.\"\n",
    "    print(txt.format(name,age,place))\n",
    "profile(\"siva\",22)"
   ]
  },
  {
   "cell_type": "code",
   "execution_count": 54,
   "id": "1690a85d",
   "metadata": {},
   "outputs": [
    {
     "name": "stdout",
     "output_type": "stream",
     "text": [
      "you Are Not Eligible\n"
     ]
    }
   ],
   "source": [
    "#Eg 2:\n",
    "\n",
    "def profile(name,age,place=\"kadapa\"): # giving the argument to the function declaration\n",
    "    txt = \"My name is {}.iam {} years old.iam from {}.\"\n",
    "    if place == \"kadapa\" or place == \"KADAPA\" or place ==\"Kadapa\":\n",
    "        print(txt.format(name,age,place))\n",
    "    else :\n",
    "        print(\"you Are Not Eligible\")\n",
    "profile(\"siva\",22,\"Guntur\")"
   ]
  },
  {
   "cell_type": "code",
   "execution_count": 71,
   "id": "6a814ddc",
   "metadata": {},
   "outputs": [
    {
     "name": "stdout",
     "output_type": "stream",
     "text": [
      "\"##*\"\n",
      "2 1\n",
      "Negative integer\n"
     ]
    }
   ],
   "source": [
    "# Problem Statement – Given a string S(input consisting) of ‘*’ and ‘#’. \n",
    "# The length of the string is variable. The task is to find the minimum number of ‘*’ \n",
    "# or ‘#’ to make it a valid string. The string is considered valid if the number of ‘*’ \n",
    "# and ‘#’ are equal. The ‘*’ and ‘#’ can be at any position in the string.\n",
    "# Note : The output will be a positive or negative integer based on number of ‘*’ \n",
    "# and ‘#’ in the input string.\n",
    "\n",
    "# (*>#): positive integer\n",
    "# (#>*): negative integer\n",
    "# (#=*): 0\n",
    "# Example 1:\n",
    "# Input 1:\n",
    "\n",
    "# ###***   -> Value of S\n",
    "# Output :\n",
    "\n",
    "# 0   → number of * and # are equal\n",
    "s = input()\n",
    "count=0\n",
    "sun=0\n",
    "for i in range(len(s)):\n",
    "    if s[i]==\"#\":\n",
    "        count=count+1\n",
    "    elif s[i]==\"*\":\n",
    "        sun=sun+1\n",
    "print(count,sun)\n",
    "if sun==count:\n",
    "    print(\"0\")\n",
    "elif sun>=count:\n",
    "    print(\"positive integer\")\n",
    "elif count>=sun:\n",
    "    print(\"Negative integer\")"
   ]
  },
  {
   "cell_type": "code",
   "execution_count": 64,
   "id": "31c9f70c",
   "metadata": {},
   "outputs": [
    {
     "name": "stdout",
     "output_type": "stream",
     "text": [
      "My name is  ('siva', 'name1', 'name2')\n"
     ]
    }
   ],
   "source": [
    "#* Variable length parameters\n",
    "#Eg:\n",
    "#To pass more then 1 arg to a parameters means we use variable length args\n",
    "#To convert normal parameter to variable length parameters,add * to the prefix of parameter\n",
    "def profile(*name):\n",
    "    print(\"My name is \",name)\n",
    "profile(\"siva\",\"name1\",\"name2\")"
   ]
  },
  {
   "cell_type": "code",
   "execution_count": 73,
   "id": "381dfca5",
   "metadata": {},
   "outputs": [
    {
     "name": "stdout",
     "output_type": "stream",
     "text": [
      "My name is  ('siva', 'name1', 'name2') 22\n"
     ]
    }
   ],
   "source": [
    "# def profile(*name,age):\n",
    "#     print(\"My name is \",name)\n",
    "# profile(\"siva\",\"name1\",\"name2\",28)#>error age has no args\n",
    "def profile(age,*name):\n",
    "    print(\"My name is \",name,age)\n",
    "profile(22,\"siva\",\"name1\",\"name2\")"
   ]
  },
  {
   "cell_type": "code",
   "execution_count": 79,
   "id": "5ae41bc4",
   "metadata": {},
   "outputs": [
    {
     "name": "stdout",
     "output_type": "stream",
     "text": [
      "{'shirt': 1000, 'iphone': 80000}\n"
     ]
    }
   ],
   "source": [
    "#* Keyword variable length args\n",
    "# kwargs --> which is used to provide the args in the form of key value pair.\n",
    "#Eg;\n",
    "def price(**price_list): ## the double star ** is given prefix of the parameters\n",
    "    print(price_list)\n",
    "    \n",
    "price(shirt=1000, iphone=80000)"
   ]
  },
  {
   "cell_type": "code",
   "execution_count": 86,
   "id": "4237bf50",
   "metadata": {},
   "outputs": [
    {
     "name": "stdout",
     "output_type": "stream",
     "text": [
      "5\n",
      "{1: 1, 2: 4, 3: 9, 4: 16, 5: 25}\n"
     ]
    }
   ],
   "source": [
    "def squ(n):\n",
    "    n= int(input())\n",
    "    d1={}\n",
    "    for val in range(1,n+1):\n",
    "        d1[val]=val**2\n",
    "    print(d1)\n",
    "squ(n)"
   ]
  },
  {
   "cell_type": "code",
   "execution_count": 94,
   "id": "0497a80b",
   "metadata": {},
   "outputs": [
    {
     "ename": "KeyboardInterrupt",
     "evalue": "Interrupted by user",
     "output_type": "error",
     "traceback": [
      "\u001b[1;31m---------------------------------------------------------------------------\u001b[0m",
      "\u001b[1;31mKeyboardInterrupt\u001b[0m                         Traceback (most recent call last)",
      "\u001b[1;32mC:\\Users\\LIOSIV~1\\AppData\\Local\\Temp/ipykernel_10748/2642929422.py\u001b[0m in \u001b[0;36m<module>\u001b[1;34m\u001b[0m\n\u001b[1;32m----> 1\u001b[1;33m \u001b[0mn\u001b[0m\u001b[1;33m=\u001b[0m \u001b[0mint\u001b[0m\u001b[1;33m(\u001b[0m\u001b[0minput\u001b[0m\u001b[1;33m(\u001b[0m\u001b[1;33m)\u001b[0m\u001b[1;33m)\u001b[0m\u001b[1;33m\u001b[0m\u001b[1;33m\u001b[0m\u001b[0m\n\u001b[0m\u001b[0;32m      2\u001b[0m \u001b[0mi\u001b[0m \u001b[1;33m=\u001b[0m \u001b[1;36m0\u001b[0m\u001b[1;33m\u001b[0m\u001b[1;33m\u001b[0m\u001b[0m\n\u001b[0;32m      3\u001b[0m \u001b[0ml\u001b[0m\u001b[1;33m=\u001b[0m\u001b[1;36m0\u001b[0m\u001b[1;33m\u001b[0m\u001b[1;33m\u001b[0m\u001b[0m\n\u001b[0;32m      4\u001b[0m \u001b[1;32mwhile\u001b[0m \u001b[0mi\u001b[0m\u001b[1;33m<\u001b[0m\u001b[0mn\u001b[0m\u001b[1;33m:\u001b[0m\u001b[1;33m\u001b[0m\u001b[1;33m\u001b[0m\u001b[0m\n\u001b[0;32m      5\u001b[0m     \u001b[1;32mif\u001b[0m \u001b[0mn\u001b[0m\u001b[1;33m/\u001b[0m\u001b[1;36m1\u001b[0m\u001b[1;33m==\u001b[0m\u001b[1;36m0\u001b[0m \u001b[1;32mand\u001b[0m \u001b[0mn\u001b[0m\u001b[1;33m/\u001b[0m\u001b[0mn\u001b[0m\u001b[1;33m==\u001b[0m\u001b[1;36m0\u001b[0m\u001b[1;33m:\u001b[0m\u001b[1;33m\u001b[0m\u001b[1;33m\u001b[0m\u001b[0m\n",
      "\u001b[1;32m~\\anaconda3\\lib\\site-packages\\ipykernel\\kernelbase.py\u001b[0m in \u001b[0;36mraw_input\u001b[1;34m(self, prompt)\u001b[0m\n\u001b[0;32m   1004\u001b[0m                 \u001b[1;34m\"raw_input was called, but this frontend does not support input requests.\"\u001b[0m\u001b[1;33m\u001b[0m\u001b[1;33m\u001b[0m\u001b[0m\n\u001b[0;32m   1005\u001b[0m             )\n\u001b[1;32m-> 1006\u001b[1;33m         return self._input_request(\n\u001b[0m\u001b[0;32m   1007\u001b[0m             \u001b[0mstr\u001b[0m\u001b[1;33m(\u001b[0m\u001b[0mprompt\u001b[0m\u001b[1;33m)\u001b[0m\u001b[1;33m,\u001b[0m\u001b[1;33m\u001b[0m\u001b[1;33m\u001b[0m\u001b[0m\n\u001b[0;32m   1008\u001b[0m             \u001b[0mself\u001b[0m\u001b[1;33m.\u001b[0m\u001b[0m_parent_ident\u001b[0m\u001b[1;33m[\u001b[0m\u001b[1;34m\"shell\"\u001b[0m\u001b[1;33m]\u001b[0m\u001b[1;33m,\u001b[0m\u001b[1;33m\u001b[0m\u001b[1;33m\u001b[0m\u001b[0m\n",
      "\u001b[1;32m~\\anaconda3\\lib\\site-packages\\ipykernel\\kernelbase.py\u001b[0m in \u001b[0;36m_input_request\u001b[1;34m(self, prompt, ident, parent, password)\u001b[0m\n\u001b[0;32m   1049\u001b[0m             \u001b[1;32mexcept\u001b[0m \u001b[0mKeyboardInterrupt\u001b[0m\u001b[1;33m:\u001b[0m\u001b[1;33m\u001b[0m\u001b[1;33m\u001b[0m\u001b[0m\n\u001b[0;32m   1050\u001b[0m                 \u001b[1;31m# re-raise KeyboardInterrupt, to truncate traceback\u001b[0m\u001b[1;33m\u001b[0m\u001b[1;33m\u001b[0m\u001b[0m\n\u001b[1;32m-> 1051\u001b[1;33m                 \u001b[1;32mraise\u001b[0m \u001b[0mKeyboardInterrupt\u001b[0m\u001b[1;33m(\u001b[0m\u001b[1;34m\"Interrupted by user\"\u001b[0m\u001b[1;33m)\u001b[0m \u001b[1;32mfrom\u001b[0m \u001b[1;32mNone\u001b[0m\u001b[1;33m\u001b[0m\u001b[1;33m\u001b[0m\u001b[0m\n\u001b[0m\u001b[0;32m   1052\u001b[0m             \u001b[1;32mexcept\u001b[0m \u001b[0mException\u001b[0m\u001b[1;33m:\u001b[0m\u001b[1;33m\u001b[0m\u001b[1;33m\u001b[0m\u001b[0m\n\u001b[0;32m   1053\u001b[0m                 \u001b[0mself\u001b[0m\u001b[1;33m.\u001b[0m\u001b[0mlog\u001b[0m\u001b[1;33m.\u001b[0m\u001b[0mwarning\u001b[0m\u001b[1;33m(\u001b[0m\u001b[1;34m\"Invalid Message:\"\u001b[0m\u001b[1;33m,\u001b[0m \u001b[0mexc_info\u001b[0m\u001b[1;33m=\u001b[0m\u001b[1;32mTrue\u001b[0m\u001b[1;33m)\u001b[0m\u001b[1;33m\u001b[0m\u001b[1;33m\u001b[0m\u001b[0m\n",
      "\u001b[1;31mKeyboardInterrupt\u001b[0m: Interrupted by user"
     ]
    }
   ],
   "source": [
    "n= int(input())\n",
    "i = 0\n",
    "l=0\n",
    "while i<n:\n",
    "    if n/1==0 and n/n==0:\n",
    "        l=n\n",
    "    print(l)"
   ]
  },
  {
   "cell_type": "code",
   "execution_count": 106,
   "id": "a024dfac",
   "metadata": {},
   "outputs": [
    {
     "name": "stdout",
     "output_type": "stream",
     "text": [
      "hey\n"
     ]
    }
   ],
   "source": [
    "###** Hoop's---> Object Oriented programming\n",
    "# The paradigms of objects oriented programming are \n",
    "\n",
    "#> class\n",
    "#> objects\n",
    "#> inheritance\n",
    "#> polymorphism\n",
    "#> abstraction\n",
    "#> encapsulation\n",
    "\n",
    "#__> Class is a blue print of an OBject\n",
    "\n",
    "# l1 =[1,2,3,4,5,6] Note; the class l1 the l1 was the object\n",
    "\n",
    "#Eg 1:\n",
    "# class c1:\n",
    "#     name1 = 'siva'\n",
    "#     print(name1)\n",
    "\n",
    "# #Eg:2\n",
    "# class person:\n",
    "#     name = \"siva\"\n",
    "# c = person() # c as object --> creating an object is called instantiation\n",
    "# print(c.name)\n",
    "\n",
    "''' Eg: 3 EG: 4 method without any parameter'''\n",
    "# create of a method\n",
    "# # when the function is created in with in the class is called as method\n",
    "# class person:\n",
    "#     def display(person): note: it is a method. if the function was exicuted within the class is called method.\n",
    "#         print(\"Hellow welcome to classes\")\n",
    "# p = person()\n",
    "# p.display()\n",
    "\n",
    "''' EG: 4 method with parameter'''\n",
    "# class person:\n",
    "#     def display(person,name, age):\n",
    "#         print(name,age)\n",
    "# p = person()\n",
    "# p.display(\"siva\",22)\n",
    "''' Eg: 5 '''\n",
    "# class person:\n",
    "#     name3 = \"siva\" # atribute or static variable\n",
    "#     name2 = \"S\"\n",
    "#     def first_name(self):\n",
    "#         print(self.name3)\n",
    "#     def full_name(self):\n",
    "#         print(self.name3+\" \"+self.name2)\n",
    "        \n",
    "# p =person()\n",
    "# p.first_name()\n",
    "# p.full_name()\n",
    "'''Eg;6 --> Constructors __init__()'''\n",
    "# the double under score is called dundur \n",
    " #This is a special method which has the ability to execute it self without calling\n",
    "    #it manually through the process  of instantitaion \n",
    "    \n",
    "# class profile:\n",
    "#     def __init__(self):\n",
    "#         print(\"hey\")\n",
    "        \n",
    "# p=profile()# execution of constructor through this process\n",
    "\n"
   ]
  },
  {
   "cell_type": "code",
   "execution_count": null,
   "id": "f83c6c80",
   "metadata": {},
   "outputs": [],
   "source": []
  }
 ],
 "metadata": {
  "kernelspec": {
   "display_name": "Python 3 (ipykernel)",
   "language": "python",
   "name": "python3"
  },
  "language_info": {
   "codemirror_mode": {
    "name": "ipython",
    "version": 3
   },
   "file_extension": ".py",
   "mimetype": "text/x-python",
   "name": "python",
   "nbconvert_exporter": "python",
   "pygments_lexer": "ipython3",
   "version": "3.9.7"
  }
 },
 "nbformat": 4,
 "nbformat_minor": 5
}
