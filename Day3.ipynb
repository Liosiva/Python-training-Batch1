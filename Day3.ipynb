{
 "cells": [
  {
   "cell_type": "code",
   "execution_count": 4,
   "id": "d0129526",
   "metadata": {},
   "outputs": [
    {
     "name": "stdout",
     "output_type": "stream",
     "text": [
      "12\n",
      "22\n",
      "54\n",
      "67\n",
      "The oldest age was 67\n"
     ]
    }
   ],
   "source": [
    "age1 = int(input())\n",
    "age2 =int(input())\n",
    "age3 = int(input())\n",
    "age4 = int(input())\n",
    "\n",
    "x = [age1,age2,age3,age4]\n",
    "if max(x):\n",
    "    print(\"The oldest age was\",max(x))"
   ]
  },
  {
   "cell_type": "code",
   "execution_count": 5,
   "id": "ab9f3f9d",
   "metadata": {},
   "outputs": [
    {
     "name": "stdout",
     "output_type": "stream",
     "text": [
      "2\n",
      "no\n"
     ]
    }
   ],
   "source": [
    "n = int(input())\n",
    "if n%5==0 and n%7==0:\n",
    "    print('yes')\n",
    "else:\n",
    "    print(\"no\")"
   ]
  },
  {
   "cell_type": "code",
   "execution_count": 18,
   "id": "bbd7f0de",
   "metadata": {},
   "outputs": [
    {
     "name": "stdout",
     "output_type": "stream",
     "text": [
      "100\n",
      "the cost is 105.0\n"
     ]
    }
   ],
   "source": [
    "c =int(input())\n",
    "if c>=100000 :\n",
    "    a=c*0.09\n",
    "    print(\"The price is\",c+a)\n",
    "elif c>50000<100000:\n",
    "    b= c*0.10\n",
    "    print(\"the cost was\",c+b)\n",
    "elif c<=50000:\n",
    "    b=c*0.05\n",
    "    print(\"the cost is\",c+b)"
   ]
  },
  {
   "cell_type": "code",
   "execution_count": 22,
   "id": "36df5e9f",
   "metadata": {},
   "outputs": [
    {
     "name": "stdout",
     "output_type": "stream",
     "text": [
      "C is Greateer\n"
     ]
    }
   ],
   "source": [
    "\"--->if elif else \"\n",
    "#Eg:1\n",
    "a=7 \n",
    "b=8\n",
    "c=9\n",
    "if a>b and a>c:\n",
    "    print(\"A is Greater\")\n",
    "elif b>a and b>c:\n",
    "    print(\"B is Greater\")\n",
    "else :\n",
    "    print(\"C is Greateer\")"
   ]
  },
  {
   "cell_type": "code",
   "execution_count": 37,
   "id": "0b85124c",
   "metadata": {},
   "outputs": [
    {
     "name": "stdout",
     "output_type": "stream",
     "text": [
      "120\n"
     ]
    }
   ],
   "source": [
    "m = int(input())\n",
    "if m<25:\n",
    "    print(\"F\")\n",
    "elif m>25 and m<=45 :\n",
    "    print(\"E\")\n",
    "elif m>45 and m<=50:\n",
    "    print(\"D\")\n",
    "elif m>50 and m<=60:\n",
    "    print(\"C\")\n",
    "elif m>60 and m<=80:\n",
    "    print(\"B\")\n",
    "elif m>80 and m<=100:\n",
    "    print(\"A\")"
   ]
  },
  {
   "cell_type": "code",
   "execution_count": 81,
   "id": "9903b2ab",
   "metadata": {},
   "outputs": [
    {
     "ename": "TypeError",
     "evalue": "'int' object is not iterable",
     "output_type": "error",
     "traceback": [
      "\u001b[1;31m---------------------------------------------------------------------------\u001b[0m",
      "\u001b[1;31mTypeError\u001b[0m                                 Traceback (most recent call last)",
      "\u001b[1;32mC:\\Users\\LIOSIV~1\\AppData\\Local\\Temp/ipykernel_16296/1906908020.py\u001b[0m in \u001b[0;36m<module>\u001b[1;34m\u001b[0m\n\u001b[0;32m      1\u001b[0m \u001b[0mn\u001b[0m \u001b[1;33m=\u001b[0m\u001b[1;36m200\u001b[0m\u001b[1;33m\u001b[0m\u001b[1;33m\u001b[0m\u001b[0m\n\u001b[1;32m----> 2\u001b[1;33m \u001b[1;32mfor\u001b[0m \u001b[0mi\u001b[0m \u001b[1;32min\u001b[0m \u001b[0mn\u001b[0m\u001b[1;33m:\u001b[0m\u001b[1;33m\u001b[0m\u001b[1;33m\u001b[0m\u001b[0m\n\u001b[0m\u001b[0;32m      3\u001b[0m     \u001b[0mprint\u001b[0m\u001b[1;33m(\u001b[0m\u001b[0mint\u001b[0m\u001b[1;33m(\u001b[0m\u001b[0mi\u001b[0m\u001b[1;33m)\u001b[0m\u001b[1;33m)\u001b[0m\u001b[1;33m\u001b[0m\u001b[1;33m\u001b[0m\u001b[0m\n\u001b[0;32m      4\u001b[0m \u001b[1;33m\u001b[0m\u001b[0m\n\u001b[0;32m      5\u001b[0m \u001b[1;33m\u001b[0m\u001b[0m\n",
      "\u001b[1;31mTypeError\u001b[0m: 'int' object is not iterable"
     ]
    }
   ],
   "source": [
    "n =200\n",
    "for i in n:\n",
    "    print(int(i))\n",
    "\n",
    "\n"
   ]
  },
  {
   "cell_type": "code",
   "execution_count": 85,
   "id": "2f2d6c03",
   "metadata": {},
   "outputs": [
    {
     "name": "stdout",
     "output_type": "stream",
     "text": [
      "Enter the char :a\n",
      "vowel\n"
     ]
    }
   ],
   "source": [
    "str1 = \"aeiouAEIOU\"\n",
    "char =input(\"Enter the char :\")\n",
    "if char in str1:\n",
    "    print(\"vowel\")\n",
    "else:\n",
    "    print(\"consonnt\")\n",
    "    "
   ]
  },
  {
   "cell_type": "code",
   "execution_count": 87,
   "id": "58286129",
   "metadata": {},
   "outputs": [
    {
     "name": "stdout",
     "output_type": "stream",
     "text": [
      "a\n",
      "vowel\n"
     ]
    }
   ],
   "source": [
    "#shorthand if else\n",
    "char = input()\n",
    "str =\"aeiouAEIOU\"\n",
    "print(\"vowel\") if char in str1 else print(\"consonent\")"
   ]
  },
  {
   "cell_type": "code",
   "execution_count": null,
   "id": "a9ed6b0f",
   "metadata": {},
   "outputs": [],
   "source": [
    "'''Looping can be implimented using\n",
    " for loop \n",
    " while loop \n",
    " '''\n",
    "'''---> for loop :\n",
    "                  ->for loop is used for itearation, if we know the number of times the loop have to run .'''\n",
    "'''it is used to iterate the iterables eg(string,list,tuple,etc)'''\n",
    "# todo --> syntax for loop\n",
    "'''-> for syntax in python:\n",
    "                           for userdefined_variable in range(stat,end,step): default step value is 1\n",
    "                                                      statement1\n",
    "                                                      statement2..etc\n",
    "                                                      '''"
   ]
  },
  {
   "cell_type": "code",
   "execution_count": null,
   "id": "9abfced7",
   "metadata": {},
   "outputs": [],
   "source": [
    "'''Eg :1\n",
    "To print the value from 1 to 10 using for loop\n",
    "\n",
    "for i in range (0,10):\n",
    "print(i)\n",
    "print(\"Hello\")'''"
   ]
  },
  {
   "cell_type": "code",
   "execution_count": 61,
   "id": "3067d095",
   "metadata": {},
   "outputs": [
    {
     "name": "stdout",
     "output_type": "stream",
     "text": [
      "101\n",
      "103\n",
      "105\n",
      "107\n",
      "109\n",
      "110\n",
      "112\n",
      "114\n",
      "116\n",
      "118\n",
      "121\n",
      "123\n",
      "125\n",
      "127\n",
      "129\n",
      "130\n",
      "132\n",
      "134\n",
      "136\n",
      "138\n",
      "141\n",
      "143\n",
      "145\n",
      "147\n",
      "149\n",
      "150\n",
      "152\n",
      "154\n",
      "156\n",
      "158\n",
      "161\n",
      "163\n",
      "165\n",
      "167\n",
      "169\n",
      "170\n",
      "172\n",
      "174\n",
      "176\n",
      "178\n",
      "181\n",
      "183\n",
      "185\n",
      "187\n",
      "189\n",
      "190\n",
      "192\n",
      "194\n",
      "196\n",
      "198\n",
      "200\n"
     ]
    }
   ],
   "source": [
    "\n",
    "for i in range (100,201):\n",
    "    sum=0\n",
    "    for val in str(i):\n",
    "        sum=sum+int(val)\n",
    "    if sum%2==0:\n",
    "        print(i)"
   ]
  },
  {
   "cell_type": "code",
   "execution_count": 33,
   "id": "2cbc21d0",
   "metadata": {},
   "outputs": [
    {
     "name": "stdout",
     "output_type": "stream",
     "text": [
      "7 X 21 = 147\n",
      "7 X 22 = 154\n",
      "7 X 23 = 161\n",
      "7 X 24 = 168\n",
      "7 X 25 = 175\n",
      "7 X 26 = 182\n",
      "7 X 27 = 189\n",
      "7 X 28 = 196\n",
      "7 X 29 = 203\n",
      "7 X 30 = 210\n",
      "7 X 31 = 217\n",
      "7 X 32 = 224\n",
      "7 X 33 = 231\n",
      "7 X 34 = 238\n",
      "7 X 35 = 245\n",
      "7 X 36 = 252\n",
      "7 X 37 = 259\n",
      "7 X 38 = 266\n",
      "7 X 39 = 273\n",
      "7 X 40 = 280\n",
      "7 X 41 = 287\n",
      "7 X 42 = 294\n",
      "7 X 43 = 301\n"
     ]
    }
   ],
   "source": [
    "n=0\n",
    "for i in range(21,43+1):\n",
    "    n=i\n",
    "    print(\"7 X\",n,\"=\",i*7)"
   ]
  },
  {
   "cell_type": "code",
   "execution_count": 34,
   "id": "5311bf8d",
   "metadata": {},
   "outputs": [
    {
     "name": "stdout",
     "output_type": "stream",
     "text": [
      "7 X 21 = 147\n",
      "7 X 22 = 154\n",
      "7 X 23 = 161\n",
      "7 X 24 = 168\n",
      "7 X 25 = 175\n",
      "7 X 26 = 182\n",
      "7 X 27 = 189\n",
      "7 X 28 = 196\n",
      "7 X 29 = 203\n",
      "7 X 30 = 210\n",
      "7 X 31 = 217\n",
      "7 X 32 = 224\n",
      "7 X 33 = 231\n",
      "7 X 34 = 238\n",
      "7 X 35 = 245\n",
      "7 X 36 = 252\n",
      "7 X 37 = 259\n",
      "7 X 38 = 266\n",
      "7 X 39 = 273\n",
      "7 X 40 = 280\n",
      "7 X 41 = 287\n",
      "7 X 42 = 294\n",
      "7 X 43 = 301\n"
     ]
    }
   ],
   "source": [
    "#use of format function \n",
    "for i in range (21,43+1):\n",
    "    ans=\"7 X {} = {}\"\n",
    "    print(ans.format(i,i*7))"
   ]
  },
  {
   "cell_type": "code",
   "execution_count": 149,
   "id": "9bdd73b7",
   "metadata": {
    "scrolled": true
   },
   "outputs": [
    {
     "ename": "SyntaxError",
     "evalue": "invalid syntax (Temp/ipykernel_14264/2840025404.py, line 2)",
     "output_type": "error",
     "traceback": [
      "\u001b[1;36m  File \u001b[1;32m\"C:\\Users\\LIOSIV~1\\AppData\\Local\\Temp/ipykernel_14264/2840025404.py\"\u001b[1;36m, line \u001b[1;32m2\u001b[0m\n\u001b[1;33m    j in range (4,0,-1):\u001b[0m\n\u001b[1;37m                        ^\u001b[0m\n\u001b[1;31mSyntaxError\u001b[0m\u001b[1;31m:\u001b[0m invalid syntax\n"
     ]
    }
   ],
   "source": [
    "\n",
    "for i in range(0,4,1):\n",
    "    j in range (4,0,-1):\n",
    "        s=\" \"*i\n",
    "        l=\"*\"*j\n",
    "    print(s,l)\n",
    "    \n",
    "\n"
   ]
  },
  {
   "cell_type": "code",
   "execution_count": 110,
   "id": "bb97e161",
   "metadata": {},
   "outputs": [
    {
     "name": "stdout",
     "output_type": "stream",
     "text": [
      "20\n",
      "22\n",
      "24\n",
      "26\n",
      "28\n",
      "30\n",
      "32\n",
      "34\n",
      "36\n",
      "38\n",
      "40\n"
     ]
    }
   ],
   "source": [
    "for val in range(20,40+1):\n",
    "    if val%2==0:\n",
    "        print(val)"
   ]
  },
  {
   "cell_type": "code",
   "execution_count": null,
   "id": "1231dd70",
   "metadata": {},
   "outputs": [],
   "source": []
  }
 ],
 "metadata": {
  "kernelspec": {
   "display_name": "Python 3 (ipykernel)",
   "language": "python",
   "name": "python3"
  },
  "language_info": {
   "codemirror_mode": {
    "name": "ipython",
    "version": 3
   },
   "file_extension": ".py",
   "mimetype": "text/x-python",
   "name": "python",
   "nbconvert_exporter": "python",
   "pygments_lexer": "ipython3",
   "version": "3.9.7"
  }
 },
 "nbformat": 4,
 "nbformat_minor": 5
}
